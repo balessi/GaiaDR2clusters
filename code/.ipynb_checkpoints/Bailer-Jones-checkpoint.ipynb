{
 "cells": [
  {
   "cell_type": "markdown",
   "metadata": {},
   "source": [
    "# Pipeline for analysing OCs based on Gaia EDR3 Distances"
   ]
  },
  {
   "cell_type": "markdown",
   "metadata": {},
   "source": [
    "#### Estimating distances from parallaxes. V: Geometric and photogeometric distances to 1.47 billion stars in Gaia Early Data Release 3\n",
    "#### Bailer-Jones, C. A. L.; Rybizki, J.; Fouesneau, M. and 2 more"
   ]
  },
  {
   "cell_type": "markdown",
   "metadata": {},
   "source": [
    "## 1 - Libraries"
   ]
  },
  {
   "cell_type": "code",
   "execution_count": 1,
   "metadata": {},
   "outputs": [],
   "source": [
    "import sys\n",
    "import numpy as np\n",
    "import pandas as pd\n",
    "import astropy\n",
    "import astropy.stats as ap\n",
    "import matplotlib.pyplot as plt\n",
    "import pyvo as vo\n",
    "\n",
    "from astropy import units\n",
    "from astropy.table import Table\n",
    "from astropy.coordinates import SkyCoord\n",
    "from IPython.display import display, HTML"
   ]
  },
  {
   "cell_type": "markdown",
   "metadata": {},
   "source": [
    "## 2 - Constants"
   ]
  },
  {
   "cell_type": "code",
   "execution_count": 2,
   "metadata": {},
   "outputs": [],
   "source": [
    "svc_url = 'https://dc.zah.uni-heidelberg.de/__system__/tap/run/tap'\n",
    "\n",
    "query = f'SELECT \\\n",
    "    source_id, \\\n",
    "    ra, \\\n",
    "    dec, \\\n",
    "    pmra, \\\n",
    "    pmdec, \\\n",
    "    parallax, \\\n",
    "    r_med_geo, \\\n",
    "    phot_g_mean_mag \\\n",
    "    FROM gedr3dist.main \\\n",
    "    JOIN gaia.edr3lite USING (source_id) \\\n",
    "    WHERE ruwe < 1.4 '\n",
    "\n",
    "uns = [['h','m','s'],['d','m','s']]\n",
    "\n",
    "# Our estimates are quantiles of a posterior probability distribution, so they transform invariably and \n",
    "# can therefore also be used directly in the distance modulus (5log10(r)-5).\n",
    "# The catalogue may be downloaded or queried using ADQL at various sites where it\n",
    "# can also be cross-matched with the Gaia catalogue."
   ]
  },
  {
   "cell_type": "markdown",
   "metadata": {},
   "source": [
    "## 2 - Catalogue access"
   ]
  },
  {
   "cell_type": "code",
   "execution_count": 10,
   "metadata": {},
   "outputs": [],
   "source": [
    "def query_data(ra, de, rad, mag_lim, pm_lim):\n",
    "    qry = query + f' AND DISTANCE(ra, dec, {ra:8.6f}, {de:+8.6f}) < {rad:8.6f}'\n",
    "    service = vo.dal.TAPService(svc_url)\n",
    "    resultset = service.search(qry)\n",
    "    df = resultset.to_table().to_pandas()\n",
    "    df = df.set_index('source_id')\n",
    "    df = df[df['phot_g_mean_mag'] < mag_lim]\n",
    "    df = df[np.abs(df['pmra']) < pm_lim]\n",
    "    df = df[np.abs(df['pmdec']) < pm_lim]\n",
    "    df = df.sort_values(by='ra')\n",
    "    df['dist_mod'] = 5 * np.log10(df['r_med_geo']) - 5\n",
    "    #display(df.describe())\n",
    "    return df\n",
    "\n",
    "# convert sexagesimal to decimal coordinates\n",
    "def convert(_ra, _dec, diam):\n",
    "    comps = list(zip(_ra.split(' '),uns[0]))\n",
    "    ra = ''.join([item for sublist in comps for item in sublist])\n",
    "    comps = list(zip(_dec.split(' '),uns[1]))\n",
    "    dec = ''.join([item for sublist in comps for item in sublist])\n",
    "    c = SkyCoord(ra, dec, frame='icrs')\n",
    "    return c.ra.value, c.dec.value, diam / 120"
   ]
  },
  {
   "cell_type": "markdown",
   "metadata": {},
   "source": [
    "## 3 - VPD scatter plot and 2D Histogram (returning PMs for the bin with highest count)"
   ]
  },
  {
   "cell_type": "code",
   "execution_count": 43,
   "metadata": {},
   "outputs": [],
   "source": [
    "# Build a VPD (Vector Proper Motion Diagram) scatter plot\n",
    "def plot_VPD(data, title):\n",
    "    pmras = data['pmra']\n",
    "    pmdes = data['pmdec']\n",
    "    xs, ys = pmras, pmdes\n",
    "    plt.title(title)\n",
    "    plt.xlabel('pmRA (mas/yr)')\n",
    "    plt.ylabel('pmDe (mas/yr)')\n",
    "    plt.grid(True, linestyle='dashed')\n",
    "    plt.scatter(xs, ys, s=3, color='black')\n",
    "\n",
    "# Calculates the median distance modulus of the stars within <limit> of the estimated pms\n",
    "def calculate_estimates(data, est_pmra, est_pmde, limit = 1.2):\n",
    "    def filter_pms(pmra, pmde):\n",
    "        return (abs(est_pmra - pmra) < limit) and (abs(est_pmde - pmde) < limit)\n",
    "    filter_fn = lambda x: filter_pms(x['pmra'], x['pmdec'])\n",
    "    data = data[data.apply(filter_fn, axis = 1)]\n",
    "    dists = data['dist_mod']\n",
    "    pars = data['parallax']\n",
    "    pmra = data['pmra']\n",
    "    pmde = data['pmdec']\n",
    "    gmag = data['phot_g_mean_mag']\n",
    "    dist, err_dist = np.median(dists), ap.median_absolute_deviation(dists)\n",
    "    par,  err_par  = np.median(pars), ap.median_absolute_deviation(pars)\n",
    "    pmra, err_pmra = np.median(pmra), ap.median_absolute_deviation(pmra)\n",
    "    pmde, err_pmde = np.median(pmde), ap.median_absolute_deviation(pmde)\n",
    "    gmin, gmax = np.min(gmag), np.max(gmag)\n",
    "    return data, dist, err_dist, par, err_par, pmra, err_pmra, pmde, err_pmde, gmin, gmax, len(dists)\n",
    "\n",
    "# Build 2D histogram for proper motions and returns average PMs for the bin with the highest count\n",
    "def plot_pm_hist(data, pm_lim, num_bins = 25):\n",
    "    xs = data['pmra']\n",
    "    ys = data['pmdec']\n",
    "    _range = [[-pm_lim, pm_lim], [-pm_lim, pm_lim]]\n",
    "    counts, xedges, yedges = np.histogram2d(xs, ys, bins = num_bins, range = _range)\n",
    "    x_ind, y_ind = np.unravel_index(np.argmax(counts), counts.shape)\n",
    "    est_pmRA = (xedges[x_ind] + xedges[x_ind+1]) / 2\n",
    "    est_pmDe = (yedges[y_ind] + yedges[y_ind+1]) / 2\n",
    "    plt.imshow(counts.T, origin = 'lower')\n",
    "    plt.xlabel('pmRA bin index')\n",
    "    plt.ylabel('pmDE bin index')\n",
    "    plt.plot(x_ind, y_ind, 'or')\n",
    "    return calculate_estimates(data, est_pmRA, est_pmDe)\n",
    "\n",
    "# Build G mag X Distance Modulus scatter plot\n",
    "def plot_mag_par(data):\n",
    "    dists = data['dist_mod']\n",
    "    gmags = data['phot_g_mean_mag']\n",
    "    xs, ys = gmags, dists\n",
    "    plt.xlabel('G (mag)')\n",
    "    plt.ylabel('Dist. Mod. (mag)')\n",
    "    plt.grid(True, linestyle='dashed')\n",
    "    plt.scatter(xs, ys, s=3, color='black')\n",
    "\n",
    "# plot estimates and both graphics side-by-side\n",
    "def plot_all(data, cl_name, pm_lim):\n",
    "    fig = plt.figure(figsize=(15,5))\n",
    "    plt.subplot(131)\n",
    "    plot_VPD(data, cl_name)\n",
    "    plt.subplot(132)\n",
    "    stars, dist_mod, err_dist, par, err_par, pmra, err_pmra, pmde, err_pmde, gmin, gmax, n = plot_pm_hist(data, pm_lim)\n",
    "    plt.subplot(133)\n",
    "    plot_mag_par(data)\n",
    "    plt.tight_layout()\n",
    "    dist_pc = np.power(10, (dist_mod/5)+1)\n",
    "    err_dist_pc_upper = np.power(10, ((dist_mod + err_dist)/5)+1) - dist_pc\n",
    "    err_dist_pc_lower = np.power(10, ((dist_mod - err_dist)/5)+1) - dist_pc\n",
    "    estimates = f'{cl_name:<20} '\n",
    "    estimates += f'{dist_pc:6.1f} {err_dist_pc_upper:+4.1f} {err_dist_pc_lower:+4.1f} '\n",
    "    estimates += f'{dist_mod:7.3f} {err_dist:4.3f} '\n",
    "    estimates += f'{par:7.3f} {err_par:4.3f} '\n",
    "    estimates += f'{pmra:7.3f} {err_pmra:4.3f} {pmde:7.3f} {err_pmde:4.3f}'\n",
    "    estimates += f'{n:>5}  {gmin:5.2f}..{gmax:5.2f}'\n",
    "    print(estimates)\n",
    "\n",
    "def process(name, coordinates, diam_arcmin, mag_lim, pm_lim):\n",
    "    has_minus = '-' in coordinates\n",
    "    ra_sexa, de_sexa = coordinates.split('-') if has_minus else coordinates.split('+')\n",
    "    if has_minus:\n",
    "        de_sexa = '-' + de_sexa\n",
    "    ra_deg, de_deg, rad_deg = convert(ra_sexa.strip(), de_sexa.strip(), diam_arcmin)\n",
    "    df = query_data(ra_deg, de_deg, rad_deg, mag_lim, pm_lim)\n",
    "    plot_all(df, name, pm_lim)"
   ]
  },
  {
   "cell_type": "markdown",
   "metadata": {},
   "source": [
    "## 4 - Run"
   ]
  },
  {
   "cell_type": "code",
   "execution_count": 53,
   "metadata": {},
   "outputs": [
    {
     "name": "stdout",
     "output_type": "stream",
     "text": [
      "Strottner 1          4755.2 +821.2 -700.2  13.386 0.346   0.099 0.172  -4.148 0.245   2.893 0.226   35  15.95..19.93\n"
     ]
    },
    {
     "data": {
      "image/png": "[encoded data removed]",
      "text/plain": [
       "<Figure size 1080x360 with 3 Axes>"
      ]
     },
     "metadata": {
      "needs_background": "light"
     },
     "output_type": "display_data"
    }
   ],
   "source": [
    "#process('Alessi 62', '18 56 06.2 +21 35 49', 36, 16, 5)"
   ]
  }
 ],
 "metadata": {
  "kernelspec": {
   "display_name": "Python 3",
   "language": "python",
   "name": "python3"
  },
  "language_info": {
   "codemirror_mode": {
    "name": "ipython",
    "version": 3
   },
   "file_extension": ".py",
   "mimetype": "text/x-python",
   "name": "python",
   "nbconvert_exporter": "python",
   "pygments_lexer": "ipython3",
   "version": "3.8.5"
  }
 },
 "nbformat": 4,
 "nbformat_minor": 4
}
