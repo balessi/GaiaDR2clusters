{
 "cells": [
  {
   "cell_type": "markdown",
   "metadata": {},
   "source": [
    "# Pipeline for analysing OCs based on Gaia EDR3 Distances"
   ]
  },
  {
   "cell_type": "markdown",
   "metadata": {},
   "source": [
    "#### Estimating distances from parallaxes. V: Geometric and photogeometric distances to 1.47 billion stars in Gaia Early Data Release 3\n",
    "#### Bailer-Jones, C. A. L.; Rybizki, J.; Fouesneau, M. and 2 more"
   ]
  },
  {
   "cell_type": "markdown",
   "metadata": {},
   "source": [
    "## 1 - Libraries"
   ]
  },
  {
   "cell_type": "code",
   "execution_count": 1,
   "metadata": {},
   "outputs": [],
   "source": [
    "import sys\n",
    "import math\n",
    "import numpy as np\n",
    "import pandas as pd\n",
    "import astropy\n",
    "import astropy.stats as ap\n",
    "import matplotlib.pyplot as plt\n",
    "import pyvo as vo\n",
    "\n",
    "from astropy import units\n",
    "from astropy.table import Table\n",
    "from astropy.coordinates import SkyCoord\n",
    "from IPython.display import display, HTML"
   ]
  },
  {
   "cell_type": "markdown",
   "metadata": {},
   "source": [
    "## 2 - Constants"
   ]
  },
  {
   "cell_type": "code",
   "execution_count": 2,
   "metadata": {},
   "outputs": [],
   "source": [
    "svc_url = 'https://dc.zah.uni-heidelberg.de/__system__/tap/run/tap'\n",
    "\n",
    "query = f'SELECT \\\n",
    "   lite.source_id \\\n",
    "   ,lite.ra \\\n",
    "   ,lite.dec \\\n",
    "   ,lite.pmra \\\n",
    "   ,lite.pmdec \\\n",
    "   ,lite.parallax \\\n",
    "   ,main.r_med_geo \\\n",
    "   ,main.r_med_photogeo \\\n",
    "   ,lite.phot_g_mean_mag \\\n",
    "FROM \\\n",
    "   gaia.edr3lite lite \\\n",
    "   INNER JOIN gedr3dist.main main ON lite.source_id = main.source_id \\\n",
    "WHERE 1=1 \\\n",
    "   AND lite.ruwe < 1.4 '\n",
    "\n",
    "# Our estimates are quantiles of a posterior probability distribution, so they transform invariably\n",
    "# and can therefore also be used directly in the distance modulus (5log10(r)-5)."
   ]
  },
  {
   "cell_type": "markdown",
   "metadata": {},
   "source": [
    "## 2 - Catalogue access"
   ]
  },
  {
   "cell_type": "code",
   "execution_count": 3,
   "metadata": {},
   "outputs": [],
   "source": [
    "def query_data(ra, de, rad, mag_min, mag_max, pmra_min, pmra_max, pmde_min, pmde_max, dist_min, dist_max):\n",
    "    qry = query\n",
    "    de_hi = de + rad + 0.0001\n",
    "    de_lo = de - rad - 0.0001\n",
    "    #the resulting query is slow using the if below\n",
    "    #if dist_lim: qry = qry + f' AND main.r_med_geo < {dist_lim}'\n",
    "    qry = qry + f' AND lite.phot_g_mean_mag > {mag_min:4.2f}'\n",
    "    qry = qry + f' AND lite.phot_g_mean_mag < {mag_max:4.2f}'\n",
    "    qry = qry + f' AND lite.dec < {de_hi:8.6f}'\n",
    "    qry = qry + f' AND lite.dec > {de_lo:8.6f}'\n",
    "    qry = qry + f' AND DISTANCE(lite.ra, lite.dec, {ra:8.6f}, {de:+8.6f}) < {rad:8.6f}'\n",
    "    tap_service = vo.dal.TAPService(svc_url)\n",
    "    #resultset = tap_service.search(qry, maxrec=160000)\n",
    "    resultset = tap_service.run_async(qry, maxrec=160000) # tap_service.hardlimit = 16000000\n",
    "    df = resultset.to_table().to_pandas()\n",
    "    df = df.set_index('source_id')\n",
    "    df = df[df['pmra'] > pmra_min]\n",
    "    df = df[df['pmra'] < pmra_max]\n",
    "    df = df[df['pmdec'] > pmde_min]\n",
    "    df = df[df['pmdec'] < pmde_max]\n",
    "    df['dist_mod'] = 5 * np.log10(df['r_med_geo']) - 5  # r_med_photogeo\n",
    "    df = df[df['r_med_geo'] > dist_min]\n",
    "    df = df[df['r_med_geo'] < dist_max]\n",
    "    df = df.sort_values(by='ra')\n",
    "    #display(df.describe())\n",
    "    return df\n",
    "\n",
    "# convert sexagesimal to decimal coordinates\n",
    "def convert(_ra, _dec, diam):\n",
    "    uns = [['h','m','s'],['d','m','s']]\n",
    "    comps = list(zip(_ra.split(' '),uns[0]))\n",
    "    ra = ''.join([item for sublist in comps for item in sublist])\n",
    "    comps = list(zip(_dec.split(' '),uns[1]))\n",
    "    dec = ''.join([item for sublist in comps for item in sublist])\n",
    "    c = SkyCoord(ra, dec, frame='icrs')\n",
    "    return c.ra.value, c.dec.value, diam / 120"
   ]
  },
  {
   "cell_type": "markdown",
   "metadata": {},
   "source": [
    "## 3 - VPD scatter plot and 2D Histogram (returning PMs for the bin with highest count)"
   ]
  },
  {
   "cell_type": "code",
   "execution_count": 4,
   "metadata": {},
   "outputs": [],
   "source": [
    "# Build a VPD (Vector Proper Motion Diagram) scatter plot\n",
    "def plot_VPD(data, title, pmra_min, pmra_max, pmde_min, pmde_max):\n",
    "    pmras = data['pmra']\n",
    "    pmdes = data['pmdec']\n",
    "    plt.title(title)\n",
    "    plt.xlim(pmra_min, pmra_max)\n",
    "    plt.ylim(pmde_min, pmde_max)\n",
    "    plt.xlabel('pmRA (mas/yr)')\n",
    "    plt.ylabel('pmDe (mas/yr)')\n",
    "    plt.grid(True, linestyle='dashed')\n",
    "    plt.scatter(pmras, pmdes, s=3, color='black')\n",
    "\n",
    "# Build 2D histogram for proper motions and returns average PMs for the bin with the highest count\n",
    "def plot_pm_hist(data, pmra_min, pmra_max, pmde_min, pmde_max, num_bins = 15):\n",
    "    xs = data['pmra']\n",
    "    ys = data['pmdec']\n",
    "    _range = [[pmra_min, pmra_max], [pmde_min, pmde_max]]\n",
    "    counts, xedges, yedges = np.histogram2d(xs, ys, bins = num_bins, range = _range)\n",
    "    x_ind, y_ind = np.unravel_index(np.argmax(counts), counts.shape)\n",
    "    est_pmRA = (xedges[x_ind] + xedges[x_ind+1]) / 2\n",
    "    est_pmDe = (yedges[y_ind] + yedges[y_ind+1]) / 2\n",
    "    plt.imshow(counts.T, origin = 'lower')\n",
    "    plt.xlabel('pmRA bin index')\n",
    "    plt.ylabel('pmDE bin index')\n",
    "    plt.plot(x_ind, y_ind, 'or')\n",
    "    return est_pmRA, est_pmDe\n",
    "\n",
    "# Build G mag X Distance Modulus scatter plot\n",
    "def plot_mag_par(data):\n",
    "    dists = data['r_med_geo']\n",
    "    gmags = data['phot_g_mean_mag']\n",
    "    plt.xlabel('G (mag)')\n",
    "    plt.ylabel('Dist. (Pc)')\n",
    "    plt.grid(True, linestyle='dashed')\n",
    "    plt.scatter(gmags, dists, s=3, color='black')\n",
    "    \n",
    "def constrain_by_pms(data, est_pmra, est_pmde, limit = 1.5):\n",
    "    def filter_pms(pmra, pmde):\n",
    "        return (abs(est_pmra - pmra) < limit) and (abs(est_pmde - pmde) < limit)\n",
    "    filter_fn = lambda x: filter_pms(x['pmra'], x['pmdec'])\n",
    "    return data[data.apply(filter_fn, axis = 1)]\n",
    "\n",
    "# plot estimates and both graphics side-by-side\n",
    "def plot_all(data, cl_name, pmra_min, pmra_max, pmde_min, pmde_max, num_bins, limit):\n",
    "    fig = plt.figure(figsize=(15,5))\n",
    "    plt.subplot(131)\n",
    "    plot_VPD(data, cl_name, pmra_min, pmra_max, pmde_min, pmde_max)\n",
    "    plt.subplot(132)\n",
    "    est_pmra, est_pmde = plot_pm_hist(data, pmra_min, pmra_max, pmde_min, pmde_max, num_bins)\n",
    "    plt.subplot(133)\n",
    "    pm_constrained_data = constrain_by_pms(data, est_pmra, est_pmde, limit) if limit > 0 else data\n",
    "    plot_mag_par(pm_constrained_data)\n",
    "    plt.tight_layout()\n",
    "    return pm_constrained_data"
   ]
  },
  {
   "cell_type": "markdown",
   "metadata": {},
   "source": [
    "## 4 - Do the calculations"
   ]
  },
  {
   "cell_type": "code",
   "execution_count": 5,
   "metadata": {},
   "outputs": [],
   "source": [
    "def calc_vals(pm_constrained_data, dist_min, dist_max):\n",
    "    pm_constrained_data    = pm_constrained_data[pm_constrained_data['r_med_geo'] > dist_min]\n",
    "    final_constrained_data = pm_constrained_data[pm_constrained_data['r_med_geo'] < dist_max]\n",
    "    dsts = final_constrained_data['r_med_geo']\n",
    "    mods = final_constrained_data['dist_mod']\n",
    "    pars = final_constrained_data['parallax']\n",
    "    pmra = final_constrained_data['pmra']\n",
    "    pmde = final_constrained_data['pmdec']\n",
    "    gmag = final_constrained_data['phot_g_mean_mag']\n",
    "    dist, e_dist = np.median(dsts),  ap.median_absolute_deviation(dsts)\n",
    "    mod,  e_mod  = np.median(mods),  ap.median_absolute_deviation(mods)\n",
    "    par,  e_par  = np.median(pars),  ap.median_absolute_deviation(pars)\n",
    "    pmra, e_pmra = np.median(pmra),  ap.median_absolute_deviation(pmra)\n",
    "    pmde, e_pmde = np.median(pmde),  ap.median_absolute_deviation(pmde)\n",
    "    gmin, gmax   = np.min(gmag),     np.max(gmag)\n",
    "    n = len(dsts)\n",
    "    return (dist, e_dist, mod, e_mod, par, e_par, pmra, e_pmra, pmde, e_pmde, gmin, gmax, n)\n",
    "\n",
    "def check_reality(par, epra, epde):\n",
    "    \"\"\" see arXiv:1911.07075 \"\"\"\n",
    "    err = math.sqrt(epra * epra + epde * epde)\n",
    "    is_real = err < 1 if par < 1 else err < (5 * math.sqrt(2) * (par/4.74))\n",
    "    return 'y' if is_real else 'n'\n",
    "\n",
    "def print_estimates(name, coords, dia, derived_vals):\n",
    "    coo = coords.replace(' ','').replace('.','')\n",
    "    dst, e_dst, mod, e_mod, par, e_par, pra, e_pra, pde, e_pde, gmin, gmax, n = derived_vals\n",
    "    #is_real = check_reality(par, e_pra, e_pde)\n",
    "    diaf   = f'{dia:6.1f}'\n",
    "    distf  = f'{dst:6.1f}'\n",
    "    edistf = f'{e_dst:6.1f}'\n",
    "    modf   = f'{mod:7.3f}'\n",
    "    emodf  = f'{e_mod:4.3f}'\n",
    "    parf   = f'{par:7.3f}'\n",
    "    eparf  = f'{e_par:4.3f}'\n",
    "    pmraf  = f'{pra:+7.3f}'\n",
    "    epmraf = f'{e_pra:4.3f}'\n",
    "    pmdef  = f'{pde:+7.3f}'\n",
    "    epmdef = f'{e_pde:4.3f}'\n",
    "    gmagf  = f'{gmin:5.2f}..{gmax:5.2f}'\n",
    "    estimates =  f'{name:<10} '\n",
    "    #estimates += f'{is_real:<2}'\n",
    "    estimates += f'{coo:<15}'\n",
    "    estimates += f'{diaf:>5} '\n",
    "    estimates += f'{distf:>7} {edistf:>6} '\n",
    "    estimates += f'{modf:>6} {emodf:>5}'\n",
    "    estimates += f'{parf:>6} {eparf:>5} '\n",
    "    estimates += f'{pmraf:>8}{epmraf:>6} '\n",
    "    estimates += f'{pmdef:>8}{epmdef:>6} '\n",
    "    estimates += f'{n:>5} '\n",
    "    estimates += f'{gmagf:>12} '\n",
    "    print(estimates)\n",
    "\n",
    "def coord_split(coords, diam):\n",
    "    has_minus = '-' in coords\n",
    "    ra_sexa, de_sexa = coords.split('-') if has_minus else coords.split('+')\n",
    "    de_sexa = '-' + de_sexa if has_minus else de_sexa\n",
    "    return convert(ra_sexa.strip(), de_sexa.strip(), diam)\n",
    "    \n",
    "def range_split(range):\n",
    "    _min, _max = range.split('..')\n",
    "    return float(_min), float(_max)\n",
    "\n",
    "def process(name, coords, diam, mag_range, pmra_range, pmde_range, dist_range, num_bins, limit):\n",
    "    ra_deg, de_deg, rad_deg = coord_split(coords, diam)\n",
    "    mag_min,  mag_max  = range_split(mag_range)\n",
    "    pmra_min, pmra_max = range_split(pmra_range)\n",
    "    pmde_min, pmde_max = range_split(pmde_range)\n",
    "    dist_min, dist_max = range_split(dist_range)\n",
    "    df = query_data(ra_deg, de_deg, rad_deg, mag_min, mag_max, pmra_min, pmra_max, pmde_min, pmde_max, dist_min, dist_max)\n",
    "    if df.empty:\n",
    "        print('[process()] - DataFrame is empty!')\n",
    "        return None\n",
    "    if len(df.index) < 3:\n",
    "        print('[process()] - less than 3 stars!')\n",
    "        return None\n",
    "    pm_cons_data = plot_all(df, name, pmra_min, pmra_max, pmde_min, pmde_max, num_bins, limit)\n",
    "    derived_vals = calc_vals(pm_cons_data, dist_min, dist_max)\n",
    "    cl_data = (name, ra_deg, de_deg, rad_deg, derived_vals)\n",
    "    print_estimates(name, coords, diam, derived_vals)\n",
    "    return cl_data"
   ]
  },
  {
   "cell_type": "markdown",
   "metadata": {},
   "source": [
    "## 5 - Run"
   ]
  },
  {
   "cell_type": "code",
   "execution_count": 396,
   "metadata": {
    "scrolled": false
   },
   "outputs": [
    {
     "name": "stdout",
     "output_type": "stream",
     "text": [
      "SOGLEIV 259  0106450-744959    1.1  2556.5  866.2  12.035 0.767  0.076 0.191   +0.602 0.350   -1.247 0.096    16 16.38..20.73 \n"
     ]
    },
    {
     "data": {
      "image/png": "[encoded data removed]",
      "text/plain": [
       "<Figure size 1080x360 with 3 Axes>"
      ]
     },
     "metadata": {
      "needs_background": "light"
     },
     "output_type": "display_data"
    }
   ],
   "source": [
    "#process(name, coords, diam_arcm, mag_rng, pmra_rng, pmde_rng, dist_rng, num_bins, hist_pm_lim [use <=0 for unscontrained])\n",
    "#dd = process('Ale 62', '18 56 06.2 +21 35 49', 36.0, '0..19', '-10..10', '-10..10', '0..1000', 15, 1.5)\n",
    "\n",
    "#dd = process('Eps Cap', '21 37 04.6 -19 27 57', 160.0, '0..18', '0..20', '-10..10', '220..340', 10, 3)\n",
    "#dd = process('Minni 330', '18 55 38 -29 59 24', 10.0, '0..18.5', '-10..10', '-10..10', '1000..20000', 15, 1.5)\n",
    "\n",
    "#dd = process('Alessi J0053', '00 53 56.0 -65 46 28', 16.0, '0..19', '-10..10', '-10..10', '300..10000', 10, 0) #   \n",
    "#dd = process('Bica 435    ', '00 38 05.0 -58 54 30',  0.6, '0..19', '-10..10', '-10..10', '300..10000', 10, 0) #   \n",
    "#dd = process('HD 225252 Gr', '00 04 22.0 -70 19 42', 40.0, '0..17', '-20..20', '-20..20', '200..4000', 10, 0) #   \n",
    "#dd = process('Streicher 38', '22 11 12.0 -63 06 48',  7.5, '0..19', '-10..10', '-10..10', '300..10000', 10, 0) #   \n",
    "#dd = process('Tucana III  ', '23 56 36.0 -59 36 00', 12.0, '0..21', '-10..10', '-10..10', '1000..100000', 10, 1) # 25\n",
    "#dd = process('Tucana IV   ', '00 02 55.2 -60 51 00', 18.2, '0..21', '-10..10', '-10..10', '1000..100000', 10, 1) # 48\n",
    "#dd = process('Lindsay 1   ', '00 03 54.0 -73 28 19',  4.6, '0..21', '-10..10', '-10..10', '1000..100000', 10, 1) # 53\n",
    "#dd = process('Tucana V    ', '23 37 24.0 -63 16 12',  2.0, '0..21', '-10..10', '-10..10', '1000..100000', 10, 1) # 55\n",
    "#dd = process('Bologna A   ', '00 21 31.0 -71 56 07',  0.8, '0..21', '-10..10', '-10..10', '1000..100000', 10, 1) # 60\n",
    "#dd = process('NGC 346     ', '00 59 05.1 -72 10 33',  2.0, '0..21', '-10..10', '-10..10', '1000..100000', 10, 1) # 60\n",
    "#dd = process('ESO 51-9    ', '00 58 58.0 -68 54 55',  1.2, '0..21', '-10..10', '-10..10', '1000..100000', 10, 1) # 61\n",
    "#dd = process('Lindsay 32  ', '00 47 24.0 -68 55 10',  1.3, '0..21', '-10..10', '-10..10', '1000..100000', 10, 1) # 61\n",
    "#dd = process('Lindsay 38  ', '00 48 50.0 -69 52 11',  1.8, '0..21', '-10..10', '-10..10', '1000..100000', 10, 1) # 61\n",
    "#dd = process('NGC 121     ', '00 26 47.0 -71 32 12',  3.8, '0..21', '-10..10', '-10..10', '1000..100000', 10, 1) # 61\n",
    "dd = process('SOGLEIV 259 ', '01 06 45.0 -74 49 59',  1.1, '0..21', '-10..10', '-10..10', '1000..100000', 10, 1) # 61"
   ]
  },
  {
   "cell_type": "markdown",
   "metadata": {},
   "source": [
    "## 6 - Chart and RDP scatter plot (constrained by the estimated values)"
   ]
  },
  {
   "cell_type": "code",
   "execution_count": 360,
   "metadata": {
    "scrolled": false
   },
   "outputs": [
    {
     "data": {
      "image/png": "[encoded data removed]",
      "text/plain": [
       "<Figure size 432x288 with 1 Axes>"
      ]
     },
     "metadata": {
      "needs_background": "light"
     },
     "output_type": "display_data"
    }
   ],
   "source": [
    "def plot_chart(data, ra_deg, de_deg, title):\n",
    "    xs, ys = data['ra'], data['dec']\n",
    "    plt.title(title)\n",
    "    plt.xlabel('RA (degrees)')\n",
    "    plt.ylabel('De (degrees)')\n",
    "    plt.grid(True, linestyle='dashed')\n",
    "    plt.scatter(xs, ys, s=3, color='black')\n",
    "    plt.plot([ra_deg], [de_deg], marker='o', markersize=3, color=\"red\")\n",
    "\n",
    "def plot_RDP(data, num_bins, title = None):\n",
    "    def ring_area(inner_rad, outer_rad):\n",
    "        return pi * (outer_rad**2 - inner_rad**2)\n",
    "    bins = data['_r'].value_counts(num_bins).sort_index()\n",
    "    #intervals = bins.index.to_tuples()\n",
    "    midpoints = [i.mid for i in bins.index]\n",
    "    counts = bins.values\n",
    "    zipped = tuple(zip(intervals, midpoints, counts))\n",
    "    densities = [count / ring_area(inner*60, outer*60) for ((inner, outer), midpoint, count) in zipped]\n",
    "    log_dens = [np.log10(dens) if dens > 0 else 0 for dens in densities]\n",
    "    plt.grid(True, linestyle='dashed')\n",
    "    plt.title(title)\n",
    "    plt.xlabel('Radius (degrees)')\n",
    "    plt.xticks([i for i,j in intervals], rotation='vertical')\n",
    "    plt.ylabel('Logarithm of Star Density (stars/arcmin^2)')\n",
    "    plt.scatter(midpoints, log_dens, s=6, color='black')\n",
    "\n",
    "def plot_chart_and_rdp(data, ra_deg, de_deg, num_bins, cl_name):\n",
    "    fig = plt.figure(figsize=(15,6))\n",
    "    plt.subplot(121)\n",
    "    plot_chart(data, ra_deg, de_deg, cl_name)\n",
    "    plt.subplot(122)\n",
    "    plot_RDP(data, num_bins, cl_name)\n",
    "    plt.tight_layout()\n",
    "\n",
    "def calc_rad(ra_center, de_center, row):\n",
    "    _ra = row['ra']\n",
    "    _de = row['dec']\n",
    "    cl_center = SkyCoord(ra=ra_center*units.degree, dec=de_center*units.degree, frame='icrs')\n",
    "    st_coord  = SkyCoord(ra=_ra*units.degree, dec=_de*units.degree, frame='icrs')\n",
    "    return cl_center.separation(st_coord).degree\n",
    "\n",
    "def do_step_6(cl_data, mul_rad, mul_dist, mul_pmra, mul_pmde, num_bins = 25):\n",
    "    if cl_data:\n",
    "        cl_name, ra_deg, de_deg, rad_deg, derived_vals = cl_data\n",
    "        dst, e_dst, mod, e_mod, par, e_par, pra, e_pra, pde, e_pde, gmin, gmax, n = derived_vals\n",
    "        rad = mul_rad * rad_deg\n",
    "        pmra_min = pra - (mul_pmra * e_pra)\n",
    "        pmra_max = pra + (mul_pmra * e_pra) \n",
    "        pmde_min = pde - (mul_pmde * e_pde)\n",
    "        pmde_max = pde + (mul_pmde * e_pde)\n",
    "        dist_min = dst - (mul_dist * e_dst) \n",
    "        dist_max = dst + (mul_dist * e_dst) \n",
    "        df2 = query_data(ra_deg, de_deg, rad, gmin, gmax, pmra_min, pmra_max, pmde_min, pmde_max, dist_min, dist_max)\n",
    "        if df2.empty:\n",
    "            print('[do_step_6()] - DataFrame is empty!')\n",
    "        else:    \n",
    "            df2['_r'] = df2.apply (lambda row: calc_rad(ra_deg, de_deg, row), axis=1)\n",
    "            #plot_chart_and_rdp(df2, ra_deg, de_deg, num_bins, cl_name)\n",
    "            plot_chart(df2, ra_deg, de_deg, cl_name)\n",
    "\n",
    "do_step_6(dd, mul_rad = 2, mul_dist = 2, mul_pmra = 3, mul_pmde = 2)"
   ]
  }
 ],
 "metadata": {
  "kernelspec": {
   "display_name": "Python 3",
   "language": "python",
   "name": "python3"
  },
  "language_info": {
   "codemirror_mode": {
    "name": "ipython",
    "version": 3
   },
   "file_extension": ".py",
   "mimetype": "text/x-python",
   "name": "python",
   "nbconvert_exporter": "python",
   "pygments_lexer": "ipython3",
   "version": "3.8.5"
  }
 },
 "nbformat": 4,
 "nbformat_minor": 4
}
