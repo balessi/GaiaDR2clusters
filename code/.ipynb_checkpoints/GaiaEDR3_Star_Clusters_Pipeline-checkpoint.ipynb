{
 "cells": [
  {
   "cell_type": "markdown",
   "metadata": {},
   "source": [
    "# Pipeline for analysing open clusters based on Gaia EDR3 data"
   ]
  },
  {
   "cell_type": "markdown",
   "metadata": {},
   "source": [
    "## 1 - Libraries"
   ]
  },
  {
   "cell_type": "code",
   "execution_count": 1,
   "metadata": {},
   "outputs": [],
   "source": [
    "import sys\n",
    "import numpy as np\n",
    "import pandas as pd\n",
    "import matplotlib.pyplot as plt\n",
    "import astropy\n",
    "import astropy.stats as ap\n",
    "\n",
    "from math import pi, ceil, floor\n",
    "from astropy import units\n",
    "from astropy.table import Table\n",
    "from astroquery.vizier import Vizier\n",
    "from astropy.coordinates import SkyCoord\n",
    "from IPython.display import display, HTML"
   ]
  },
  {
   "cell_type": "markdown",
   "metadata": {},
   "source": [
    "## 2 - Query Gaia EDR3 Catalog"
   ]
  },
  {
   "cell_type": "code",
   "execution_count": 9,
   "metadata": {},
   "outputs": [
    {
     "name": "stdout",
     "output_type": "stream",
     "text": [
      "Querying VizieR for Alessi_62 at 284.0258 21.5969 ...\n",
      "Empty TableList\n"
     ]
    }
   ],
   "source": [
    "# Gaia EDR3 catalog on VizieR: https://vizier.u-strasbg.fr/viz-bin/VizieR-3?-source=I/350/gaiaedr3\n",
    "cat = 'I/350/gaiaedr3'\n",
    "cols = ['_r', 'EDR3Name', 'RAdeg', 'DEdeg', 'Plx', 'e_Plx', 'pmRA', 'pmDE', 'Gmag', 'BP-G']\n",
    "uns = [['h','m','s'],['d','m','s']]\n",
    "\n",
    "#Query the EDR3 data for one cluster\n",
    "def query(name, ra_deg, de_deg, rad_deg, filter_map, max_stars = 1000):\n",
    "    print(\"Querying VizieR for %s at %.4f %.4f ...\" % (name, ra_deg, de_deg))\n",
    "    coo = SkyCoord(ra = ra_deg*units.degree, dec = de_deg*units.degree, frame = 'icrs')\n",
    "    viz = Vizier(columns = cols, column_filters = filter_map, row_limit = 1000, timeout = 600)\n",
    "    viz_res = viz.query_region(coo, radius = rad_deg*units.degree, catalog = cat)\n",
    "    if viz_res == None or len(viz_res) == 0:\n",
    "        print(viz_res)\n",
    "        return pd.DataFrame() #Empty Dataframe\n",
    "    df = viz_res[0].to_pandas()\n",
    "    df = df.set_index('EDR3Name')\n",
    "    df = df.sort_values(by='Gmag')\n",
    "    df = df[:max_stars]\n",
    "    df = df.sort_values(by='_r')\n",
    "    if not df.empty:\n",
    "        #display(df.head())\n",
    "        display(df.describe())\n",
    "    else:\n",
    "        print('Empty dataframe! - try again with another set of parameters')\n",
    "    return df\n",
    "\n",
    "# convert sexagesimal to decimal coordinates\n",
    "def convert(_ra, _dec, diam):\n",
    "    comps = list(zip(_ra.split(' '),uns[0]))\n",
    "    ra = ''.join([item for sublist in comps for item in sublist])\n",
    "    comps = list(zip(_dec.split(' '),uns[1]))\n",
    "    dec = ''.join([item for sublist in comps for item in sublist])\n",
    "    c = SkyCoord(ra, dec, frame='icrs')\n",
    "    return c.ra.value, c.dec.value, diam / 120\n",
    "\n",
    "filters = {'Plx' : '0..2', 'e_Plx' : '<1', 'pmRA' : '-35..35', 'pmDE' : '-35..35', 'Gmag' : '<19.75'}\n",
    "\n",
    "# [1] PUT THE INPUT HERE IF YOU WANT TO ENTER SEXAGESIMAL COORDINATES AND DIAM IN ARCMIN\n",
    "cl_name, cl_ra_sexa, cl_de_sexa, diam_arcmin = 'Alessi_62', '18 56 06.2', '+21 35 49', 36\n",
    "#----------------------------------------------------------------------------------------------------------------------\n",
    "\n",
    "#cl_name, cl_ra_sexa, cl_de_sexa, diam_arcmin = 'Streicher 93 ', '01 42 30.0', '-42 12 17',  14.0 \n",
    "#cl_name, cl_ra_sexa, cl_de_sexa, diam_arcmin = 'Streicher 94 ', '01 56 24.0', '-43 07 17',  10.0 \n",
    "#cl_name, cl_ra_sexa, cl_de_sexa, diam_arcmin = 'Streicher 95 ', '08 50 18.0', '-36 38 12',  15.0     \n",
    "#cl_name, cl_ra_sexa, cl_de_sexa, diam_arcmin = 'Streicher 96 ', '09 14 18.0', '-62 09 00',   5.0 \n",
    "#cl_name, cl_ra_sexa, cl_de_sexa, diam_arcmin = 'Streicher 97 ', '15 44 16.0', '-56 09 00',  15.0     \n",
    "#cl_name, cl_ra_sexa, cl_de_sexa, diam_arcmin = 'Streicher 98 ', '17 13 06.0', '+87 57 18',   5.0 \n",
    "\n",
    "cl_ra, cl_de, radius = convert(cl_ra_sexa, cl_de_sexa, diam_arcmin)\n",
    "\n",
    "# [2] PUT THE INPUT HERE IF YOU WANT TO ENTER DECIMAL COORDINATES IN DEGREES AND RADIUS IN DEGREES\n",
    "#cl_name, cl_ra, cl_de, radius = 'Alessi_62', 284.026, +21.597, 0.256\n",
    "\n",
    "\n",
    "df = query(cl_name, cl_ra, cl_de, radius, filters)"
   ]
  },
  {
   "cell_type": "markdown",
   "metadata": {},
   "source": [
    "## 3 - VPD scatter plot and 2D Histogram (returning PMs for the bin with highest count)"
   ]
  },
  {
   "cell_type": "code",
   "execution_count": 3,
   "metadata": {
    "scrolled": true
   },
   "outputs": [
    {
     "ename": "KeyError",
     "evalue": "'pmRA'",
     "output_type": "error",
     "traceback": [
      "\u001b[1;31m---------------------------------------------------------------------------\u001b[0m",
      "\u001b[1;31mKeyError\u001b[0m                                  Traceback (most recent call last)",
      "\u001b[1;32m~\\AppData\\Roaming\\Python\\Python38\\site-packages\\pandas\\core\\indexes\\base.py\u001b[0m in \u001b[0;36mget_loc\u001b[1;34m(self, key, method, tolerance)\u001b[0m\n\u001b[0;32m   2894\u001b[0m             \u001b[1;32mtry\u001b[0m\u001b[1;33m:\u001b[0m\u001b[1;33m\u001b[0m\u001b[1;33m\u001b[0m\u001b[0m\n\u001b[1;32m-> 2895\u001b[1;33m                 \u001b[1;32mreturn\u001b[0m \u001b[0mself\u001b[0m\u001b[1;33m.\u001b[0m\u001b[0m_engine\u001b[0m\u001b[1;33m.\u001b[0m\u001b[0mget_loc\u001b[0m\u001b[1;33m(\u001b[0m\u001b[0mcasted_key\u001b[0m\u001b[1;33m)\u001b[0m\u001b[1;33m\u001b[0m\u001b[1;33m\u001b[0m\u001b[0m\n\u001b[0m\u001b[0;32m   2896\u001b[0m             \u001b[1;32mexcept\u001b[0m \u001b[0mKeyError\u001b[0m \u001b[1;32mas\u001b[0m \u001b[0merr\u001b[0m\u001b[1;33m:\u001b[0m\u001b[1;33m\u001b[0m\u001b[1;33m\u001b[0m\u001b[0m\n",
      "\u001b[1;32mpandas\\_libs\\index.pyx\u001b[0m in \u001b[0;36mpandas._libs.index.IndexEngine.get_loc\u001b[1;34m()\u001b[0m\n",
      "\u001b[1;32mpandas\\_libs\\index.pyx\u001b[0m in \u001b[0;36mpandas._libs.index.IndexEngine.get_loc\u001b[1;34m()\u001b[0m\n",
      "\u001b[1;32mpandas\\_libs\\hashtable_class_helper.pxi\u001b[0m in \u001b[0;36mpandas._libs.hashtable.PyObjectHashTable.get_item\u001b[1;34m()\u001b[0m\n",
      "\u001b[1;32mpandas\\_libs\\hashtable_class_helper.pxi\u001b[0m in \u001b[0;36mpandas._libs.hashtable.PyObjectHashTable.get_item\u001b[1;34m()\u001b[0m\n",
      "\u001b[1;31mKeyError\u001b[0m: 'pmRA'",
      "\nThe above exception was the direct cause of the following exception:\n",
      "\u001b[1;31mKeyError\u001b[0m                                  Traceback (most recent call last)",
      "\u001b[1;32m<ipython-input-3-1162841309f5>\u001b[0m in \u001b[0;36m<module>\u001b[1;34m\u001b[0m\n\u001b[0;32m     95\u001b[0m     \u001b[1;32mreturn\u001b[0m \u001b[0mstars\u001b[0m\u001b[1;33m,\u001b[0m \u001b[0mplx\u001b[0m\u001b[1;33m,\u001b[0m \u001b[0merr_plx\u001b[0m\u001b[1;33m,\u001b[0m \u001b[0mpmra\u001b[0m\u001b[1;33m,\u001b[0m \u001b[0merr_pmra\u001b[0m\u001b[1;33m,\u001b[0m \u001b[0mpmde\u001b[0m\u001b[1;33m,\u001b[0m \u001b[0merr_pmde\u001b[0m\u001b[1;33m,\u001b[0m \u001b[0mgmin\u001b[0m\u001b[1;33m,\u001b[0m \u001b[0mgmax\u001b[0m\u001b[1;33m,\u001b[0m \u001b[0mn\u001b[0m\u001b[1;33m\u001b[0m\u001b[1;33m\u001b[0m\u001b[0m\n\u001b[0;32m     96\u001b[0m \u001b[1;33m\u001b[0m\u001b[0m\n\u001b[1;32m---> 97\u001b[1;33m \u001b[0mstars\u001b[0m\u001b[1;33m,\u001b[0m \u001b[0mest_plx\u001b[0m\u001b[1;33m,\u001b[0m \u001b[0merr_plx\u001b[0m\u001b[1;33m,\u001b[0m \u001b[0mest_pmRA\u001b[0m\u001b[1;33m,\u001b[0m \u001b[0merr_pmRA\u001b[0m\u001b[1;33m,\u001b[0m \u001b[0mest_pmDe\u001b[0m\u001b[1;33m,\u001b[0m \u001b[0merr_pmDe\u001b[0m\u001b[1;33m,\u001b[0m \u001b[0mgmin\u001b[0m\u001b[1;33m,\u001b[0m \u001b[0mgmax\u001b[0m\u001b[1;33m,\u001b[0m \u001b[0mn\u001b[0m \u001b[1;33m=\u001b[0m \u001b[0mplot_step1\u001b[0m\u001b[1;33m(\u001b[0m\u001b[0mdf\u001b[0m\u001b[1;33m,\u001b[0m \u001b[0mcl_name\u001b[0m\u001b[1;33m)\u001b[0m\u001b[1;33m\u001b[0m\u001b[1;33m\u001b[0m\u001b[0m\n\u001b[0m\u001b[0;32m     98\u001b[0m \u001b[1;31m#estimates = f'{cl_name:<15}; {cl_ra:9.6f}; {cl_de:+9.6f}; {radius:8.5f};  '\u001b[0m\u001b[1;33m\u001b[0m\u001b[1;33m\u001b[0m\u001b[1;33m\u001b[0m\u001b[0m\n\u001b[0;32m     99\u001b[0m \u001b[0mestimates\u001b[0m \u001b[1;33m=\u001b[0m \u001b[1;34mf'{cl_name:<15};  '\u001b[0m\u001b[1;33m\u001b[0m\u001b[1;33m\u001b[0m\u001b[0m\n",
      "\u001b[1;32m<ipython-input-3-1162841309f5>\u001b[0m in \u001b[0;36mplot_step1\u001b[1;34m(data, cl_name)\u001b[0m\n\u001b[0;32m     87\u001b[0m     \u001b[0mfig\u001b[0m \u001b[1;33m=\u001b[0m \u001b[0mplt\u001b[0m\u001b[1;33m.\u001b[0m\u001b[0mfigure\u001b[0m\u001b[1;33m(\u001b[0m\u001b[0mfigsize\u001b[0m\u001b[1;33m=\u001b[0m\u001b[1;33m(\u001b[0m\u001b[1;36m15\u001b[0m\u001b[1;33m,\u001b[0m\u001b[1;36m5\u001b[0m\u001b[1;33m)\u001b[0m\u001b[1;33m)\u001b[0m\u001b[1;33m\u001b[0m\u001b[1;33m\u001b[0m\u001b[0m\n\u001b[0;32m     88\u001b[0m     \u001b[0mplt\u001b[0m\u001b[1;33m.\u001b[0m\u001b[0msubplot\u001b[0m\u001b[1;33m(\u001b[0m\u001b[1;36m131\u001b[0m\u001b[1;33m)\u001b[0m\u001b[1;33m\u001b[0m\u001b[1;33m\u001b[0m\u001b[0m\n\u001b[1;32m---> 89\u001b[1;33m     \u001b[0mplot_VPD\u001b[0m\u001b[1;33m(\u001b[0m\u001b[0mdata\u001b[0m\u001b[1;33m,\u001b[0m \u001b[0mcl_name\u001b[0m\u001b[1;33m)\u001b[0m\u001b[1;33m\u001b[0m\u001b[1;33m\u001b[0m\u001b[0m\n\u001b[0m\u001b[0;32m     90\u001b[0m     \u001b[0mplt\u001b[0m\u001b[1;33m.\u001b[0m\u001b[0msubplot\u001b[0m\u001b[1;33m(\u001b[0m\u001b[1;36m132\u001b[0m\u001b[1;33m)\u001b[0m\u001b[1;33m\u001b[0m\u001b[1;33m\u001b[0m\u001b[0m\n\u001b[0;32m     91\u001b[0m     \u001b[0mstars\u001b[0m\u001b[1;33m,\u001b[0m \u001b[0mplx\u001b[0m\u001b[1;33m,\u001b[0m \u001b[0merr_plx\u001b[0m\u001b[1;33m,\u001b[0m \u001b[0mpmra\u001b[0m\u001b[1;33m,\u001b[0m \u001b[0merr_pmra\u001b[0m\u001b[1;33m,\u001b[0m \u001b[0mpmde\u001b[0m\u001b[1;33m,\u001b[0m \u001b[0merr_pmde\u001b[0m\u001b[1;33m,\u001b[0m \u001b[0mgmin\u001b[0m\u001b[1;33m,\u001b[0m \u001b[0mgmax\u001b[0m\u001b[1;33m,\u001b[0m \u001b[0mn\u001b[0m \u001b[1;33m=\u001b[0m \u001b[0mplot_pm_hist\u001b[0m\u001b[1;33m(\u001b[0m\u001b[0mdata\u001b[0m\u001b[1;33m)\u001b[0m\u001b[1;33m\u001b[0m\u001b[1;33m\u001b[0m\u001b[0m\n",
      "\u001b[1;32m<ipython-input-3-1162841309f5>\u001b[0m in \u001b[0;36mplot_VPD\u001b[1;34m(data, title)\u001b[0m\n\u001b[0;32m     23\u001b[0m \u001b[1;31m# Build a VPD (Vector Proper Motion Diagram) scatter plot\u001b[0m\u001b[1;33m\u001b[0m\u001b[1;33m\u001b[0m\u001b[1;33m\u001b[0m\u001b[0m\n\u001b[0;32m     24\u001b[0m \u001b[1;32mdef\u001b[0m \u001b[0mplot_VPD\u001b[0m\u001b[1;33m(\u001b[0m\u001b[0mdata\u001b[0m\u001b[1;33m,\u001b[0m \u001b[0mtitle\u001b[0m\u001b[1;33m)\u001b[0m\u001b[1;33m:\u001b[0m\u001b[1;33m\u001b[0m\u001b[1;33m\u001b[0m\u001b[0m\n\u001b[1;32m---> 25\u001b[1;33m     \u001b[0mpmras\u001b[0m \u001b[1;33m=\u001b[0m \u001b[0mdata\u001b[0m\u001b[1;33m[\u001b[0m\u001b[1;34m'pmRA'\u001b[0m\u001b[1;33m]\u001b[0m\u001b[1;33m\u001b[0m\u001b[1;33m\u001b[0m\u001b[0m\n\u001b[0m\u001b[0;32m     26\u001b[0m     \u001b[0mpmdes\u001b[0m \u001b[1;33m=\u001b[0m \u001b[0mdata\u001b[0m\u001b[1;33m[\u001b[0m\u001b[1;34m'pmDE'\u001b[0m\u001b[1;33m]\u001b[0m\u001b[1;33m\u001b[0m\u001b[1;33m\u001b[0m\u001b[0m\n\u001b[0;32m     27\u001b[0m     \u001b[0mxs\u001b[0m\u001b[1;33m,\u001b[0m \u001b[0mys\u001b[0m \u001b[1;33m=\u001b[0m \u001b[0mpmras\u001b[0m\u001b[1;33m,\u001b[0m \u001b[0mpmdes\u001b[0m\u001b[1;33m\u001b[0m\u001b[1;33m\u001b[0m\u001b[0m\n",
      "\u001b[1;32m~\\AppData\\Roaming\\Python\\Python38\\site-packages\\pandas\\core\\frame.py\u001b[0m in \u001b[0;36m__getitem__\u001b[1;34m(self, key)\u001b[0m\n\u001b[0;32m   2904\u001b[0m             \u001b[1;32mif\u001b[0m \u001b[0mself\u001b[0m\u001b[1;33m.\u001b[0m\u001b[0mcolumns\u001b[0m\u001b[1;33m.\u001b[0m\u001b[0mnlevels\u001b[0m \u001b[1;33m>\u001b[0m \u001b[1;36m1\u001b[0m\u001b[1;33m:\u001b[0m\u001b[1;33m\u001b[0m\u001b[1;33m\u001b[0m\u001b[0m\n\u001b[0;32m   2905\u001b[0m                 \u001b[1;32mreturn\u001b[0m \u001b[0mself\u001b[0m\u001b[1;33m.\u001b[0m\u001b[0m_getitem_multilevel\u001b[0m\u001b[1;33m(\u001b[0m\u001b[0mkey\u001b[0m\u001b[1;33m)\u001b[0m\u001b[1;33m\u001b[0m\u001b[1;33m\u001b[0m\u001b[0m\n\u001b[1;32m-> 2906\u001b[1;33m             \u001b[0mindexer\u001b[0m \u001b[1;33m=\u001b[0m \u001b[0mself\u001b[0m\u001b[1;33m.\u001b[0m\u001b[0mcolumns\u001b[0m\u001b[1;33m.\u001b[0m\u001b[0mget_loc\u001b[0m\u001b[1;33m(\u001b[0m\u001b[0mkey\u001b[0m\u001b[1;33m)\u001b[0m\u001b[1;33m\u001b[0m\u001b[1;33m\u001b[0m\u001b[0m\n\u001b[0m\u001b[0;32m   2907\u001b[0m             \u001b[1;32mif\u001b[0m \u001b[0mis_integer\u001b[0m\u001b[1;33m(\u001b[0m\u001b[0mindexer\u001b[0m\u001b[1;33m)\u001b[0m\u001b[1;33m:\u001b[0m\u001b[1;33m\u001b[0m\u001b[1;33m\u001b[0m\u001b[0m\n\u001b[0;32m   2908\u001b[0m                 \u001b[0mindexer\u001b[0m \u001b[1;33m=\u001b[0m \u001b[1;33m[\u001b[0m\u001b[0mindexer\u001b[0m\u001b[1;33m]\u001b[0m\u001b[1;33m\u001b[0m\u001b[1;33m\u001b[0m\u001b[0m\n",
      "\u001b[1;32m~\\AppData\\Roaming\\Python\\Python38\\site-packages\\pandas\\core\\indexes\\base.py\u001b[0m in \u001b[0;36mget_loc\u001b[1;34m(self, key, method, tolerance)\u001b[0m\n\u001b[0;32m   2895\u001b[0m                 \u001b[1;32mreturn\u001b[0m \u001b[0mself\u001b[0m\u001b[1;33m.\u001b[0m\u001b[0m_engine\u001b[0m\u001b[1;33m.\u001b[0m\u001b[0mget_loc\u001b[0m\u001b[1;33m(\u001b[0m\u001b[0mcasted_key\u001b[0m\u001b[1;33m)\u001b[0m\u001b[1;33m\u001b[0m\u001b[1;33m\u001b[0m\u001b[0m\n\u001b[0;32m   2896\u001b[0m             \u001b[1;32mexcept\u001b[0m \u001b[0mKeyError\u001b[0m \u001b[1;32mas\u001b[0m \u001b[0merr\u001b[0m\u001b[1;33m:\u001b[0m\u001b[1;33m\u001b[0m\u001b[1;33m\u001b[0m\u001b[0m\n\u001b[1;32m-> 2897\u001b[1;33m                 \u001b[1;32mraise\u001b[0m \u001b[0mKeyError\u001b[0m\u001b[1;33m(\u001b[0m\u001b[0mkey\u001b[0m\u001b[1;33m)\u001b[0m \u001b[1;32mfrom\u001b[0m \u001b[0merr\u001b[0m\u001b[1;33m\u001b[0m\u001b[1;33m\u001b[0m\u001b[0m\n\u001b[0m\u001b[0;32m   2898\u001b[0m \u001b[1;33m\u001b[0m\u001b[0m\n\u001b[0;32m   2899\u001b[0m         \u001b[1;32mif\u001b[0m \u001b[0mtolerance\u001b[0m \u001b[1;32mis\u001b[0m \u001b[1;32mnot\u001b[0m \u001b[1;32mNone\u001b[0m\u001b[1;33m:\u001b[0m\u001b[1;33m\u001b[0m\u001b[1;33m\u001b[0m\u001b[0m\n",
      "\u001b[1;31mKeyError\u001b[0m: 'pmRA'"
     ]
    },
    {
     "data": {
      "image/png": "[encoded data removed]",
      "text/plain": [
       "<Figure size 1080x360 with 1 Axes>"
      ]
     },
     "metadata": {
      "needs_background": "light"
     },
     "output_type": "display_data"
    }
   ],
   "source": [
    "## determine limits for dimensioning the VPD\n",
    "def pm_limits(pmras, pmdes):\n",
    "    pmra = filters['pmRA']\n",
    "    pmde = filters['pmDE']\n",
    "    pmra_lims = pmra.split('..')\n",
    "    pmde_lims = pmde.split('..')\n",
    "    min_pmra = int(pmra_lims[0]) #np.min(pmras)-0.1\n",
    "    max_pmra = int(pmra_lims[1]) #np.max(pmras)+0.1\n",
    "    min_pmde = int(pmde_lims[0]) #np.min(pmdes)-0.1\n",
    "    max_pmde = int(pmde_lims[1]) #np.max(pmdes)+0.1\n",
    "    return min_pmra, max_pmra, min_pmde, max_pmde\n",
    " \n",
    "def plx_limits(plxs):\n",
    "    max_plx = np.max(plxs)+0.25\n",
    "    min_plx = np.min(plxs)-0.25\n",
    "    return min_plx, max_plx\n",
    "\n",
    "def mag_limits(gmags):\n",
    "    max_gmag = np.max(gmags)+0.25\n",
    "    min_gmag = np.min(gmags)-0.25\n",
    "    return min_gmag, max_gmag\n",
    "\n",
    "# Build a VPD (Vector Proper Motion Diagram) scatter plot\n",
    "def plot_VPD(data, title):\n",
    "    pmras = data['pmRA']\n",
    "    pmdes = data['pmDE']\n",
    "    xs, ys = pmras, pmdes\n",
    "    plt.title(title)\n",
    "    plt.xlabel('pmRA (mas/yr)')\n",
    "    plt.ylabel('pmDe (mas/yr)')\n",
    "    min_pmra, max_pmra, min_pmde, max_pmde = pm_limits(pmras, pmdes)\n",
    "    plt.xlim(min_pmra, max_pmra)\n",
    "    plt.ylim(min_pmde, max_pmde)\n",
    "    plt.grid(True, linestyle='dashed')\n",
    "    plt.scatter(xs, ys, s=3, color='black')\n",
    "\n",
    "# Calculates the median parallax of the stars within <limit> of the estimated pms\n",
    "def calculate_estimates(data, est_pmra, est_pmde, limit = 1.25):\n",
    "    def filter_pms(pmra, pmde):\n",
    "        return (abs(est_pmra - pmra) < limit) and (abs(est_pmde - pmde) < limit)\n",
    "    filter_fn = lambda x: filter_pms(x['pmRA'], x['pmDE'])\n",
    "    data = data[data.apply(filter_fn, axis = 1)]\n",
    "    plxs = data['Plx']\n",
    "    pmra = data['pmRA']\n",
    "    pmde = data['pmDE']\n",
    "    gmag = data['Gmag']\n",
    "    plx, err_plx = np.median(plxs), ap.median_absolute_deviation(plxs)\n",
    "    pmra, err_pmra = np.median(pmra), ap.median_absolute_deviation(pmra)\n",
    "    pmde, err_pmde = np.median(pmde), ap.median_absolute_deviation(pmde)\n",
    "    gmin, gmax = np.min(gmag), np.max(gmag)\n",
    "    return data, plx, err_plx, pmra, err_pmra, pmde, err_pmde, gmin, gmax, len(plxs)\n",
    "\n",
    "# Build 2D histogram for proper motions and returns average PMs for the bin with the highest count\n",
    "def plot_pm_hist(data, num_bins = 20):\n",
    "    xs = data['pmRA']\n",
    "    ys = data['pmDE']\n",
    "    min_pmra, max_pmra, min_pmde, max_pmde = pm_limits(xs, ys)\n",
    "    _range = [[ min_pmra, max_pmra], [min_pmde, max_pmde]]\n",
    "    counts, xedges, yedges = np.histogram2d(xs, ys, bins = num_bins, range = _range)\n",
    "    x_ind, y_ind = np.unravel_index(np.argmax(counts), counts.shape)\n",
    "    est_pmRA = (xedges[x_ind] + xedges[x_ind+1]) / 2\n",
    "    est_pmDe = (yedges[y_ind] + yedges[y_ind+1]) / 2\n",
    "    plt.imshow(counts.T, origin = 'lower')\n",
    "    plt.xlabel('pmRA bin index')\n",
    "    plt.ylabel('pmDE bin index')\n",
    "    plt.plot(x_ind, y_ind, 'or')\n",
    "    #stars, plx, err_plx, pmra, err_pmra, pmde, err_pmde, gmin, gmax, n = calculate_estimates(data, est_pmRA, est_pmDe)\n",
    "    #return plx, err_plx, pmra, err_pmra, pmde, err_pmde, gmin, gmax, n\n",
    "    return calculate_estimates(data, est_pmRA, est_pmDe)\n",
    "\n",
    "# Build G mag X Parallax scatter plot\n",
    "def plot_mag_par(data):\n",
    "    plxs = data['Plx']\n",
    "    gmags = data['Gmag']\n",
    "    min_gmag, max_gmag = mag_limits(gmags)\n",
    "    min_plx, max_plx = plx_limits(plxs)\n",
    "    xs, ys = gmags, plxs\n",
    "    plt.xlabel('G (mag)')\n",
    "    plt.ylabel('Plx (mas)')\n",
    "    plt.xlim(min_gmag, max_gmag)\n",
    "    plt.ylim(min_plx, max_plx)\n",
    "    plt.grid(True, linestyle='dashed')\n",
    "    plt.scatter(xs, ys, s=3, color='black')\n",
    "\n",
    "# plot both graphics side-by-side\n",
    "def plot_step1(data, cl_name):\n",
    "    fig = plt.figure(figsize=(15,5))\n",
    "    plt.subplot(131)\n",
    "    plot_VPD(data, cl_name)\n",
    "    plt.subplot(132)\n",
    "    stars, plx, err_plx, pmra, err_pmra, pmde, err_pmde, gmin, gmax, n = plot_pm_hist(data)\n",
    "    plt.subplot(133)\n",
    "    plot_mag_par(data)\n",
    "    plt.tight_layout()\n",
    "    return stars, plx, err_plx, pmra, err_pmra, pmde, err_pmde, gmin, gmax, n\n",
    "\n",
    "stars, est_plx, err_plx, est_pmRA, err_pmRA, est_pmDe, err_pmDe, gmin, gmax, n = plot_step1(df, cl_name)\n",
    "#estimates = f'{cl_name:<15}; {cl_ra:9.6f}; {cl_de:+9.6f}; {radius:8.5f};  '\n",
    "estimates = f'{cl_name:<15};  '\n",
    "estimates += f'{est_plx:5.3f}; {err_plx:5.3f}; {est_pmRA:7.3f};{err_pmRA:7.3f}; {est_pmDe:7.3f};{err_pmDe:7.3f};'\n",
    "estimates += f'{n:>5}; {gmin:5.2f}..{gmax:5.2f}'\n",
    "print(estimates)"
   ]
  },
  {
   "cell_type": "markdown",
   "metadata": {},
   "source": [
    "## 4 - Query another area constrained by the estimated values"
   ]
  },
  {
   "cell_type": "code",
   "execution_count": null,
   "metadata": {},
   "outputs": [],
   "source": [
    "def constrained_query(name, ra_deg, de_deg, rad, est_pmRA, est_pmDe, est_plx, mul_pm=1, mul_px=1, mul_rad=5):\n",
    "    plx_lim = (est_plx - mul_px*err_plx, est_plx + mul_px*err_plx)\n",
    "    plx_range = f'{plx_lim[0]:.2f}..{plx_lim[1]:.2f}'\n",
    "    pmRA_lim = (est_pmRA - mul_pm*err_pmRA, est_pmRA + mul_pm*err_pmRA)\n",
    "    pmRA_range = f'{pmRA_lim[0]:.2f}..{pmRA_lim[1]:.2f}'\n",
    "    pmDe_lim = (est_pmDe - mul_pm*err_pmDe, est_pmDe + mul_pm*err_pmDe)\n",
    "    pmDe_range = f'{pmDe_lim[0]:.2f}..{pmDe_lim[1]:.2f}'\n",
    "    gmag_range = f'{gmin:.2f}..{gmax:.2f}'\n",
    "    filters2 = {'Plx' : plx_range, 'pmRA' : pmRA_range, 'pmDE' : pmDe_range, 'Gmag' : gmag_range}\n",
    "    #print(filters2)\n",
    "    return query(name, ra_deg, de_deg, rad*mul_rad, filters2, max_stars = row_lim)\n",
    "    \n",
    "df2 = constrained_query(cl_name, cl_ra, cl_de, radius, est_pmRA, est_pmDe, est_plx)\n",
    "\n",
    "df2.head\n",
    "display(HTML(df2.to_html()))\n",
    "\n",
    "plot_step1(df2, cl_name)"
   ]
  },
  {
   "cell_type": "markdown",
   "metadata": {},
   "source": [
    "## 5 - Chart  and RDP scatter plot (constrained by the estimated values)"
   ]
  },
  {
   "cell_type": "code",
   "execution_count": null,
   "metadata": {},
   "outputs": [],
   "source": [
    "\n",
    "# Build chart scatter plot\n",
    "def plot_chart(data, title):\n",
    "    xs, ys = data['_RAJ2000'], data['_DEJ2000']\n",
    "    plt.title(title)\n",
    "    plt.xlabel('RA (degrees)')\n",
    "    plt.ylabel('De (degrees)')\n",
    "    plt.grid(True, linestyle='dashed')\n",
    "    plt.scatter(xs, ys, s=3, color='black')\n",
    "\n",
    "# Build RDP (Radial Density Profile) scatter plot\n",
    "def plot_RDP(data, title = None):\n",
    "    bins = data['_r'].value_counts(bins=20).sort_index()\n",
    "    intervals = bins.index.to_tuples()\n",
    "    midpoints = [i.mid for i in bins.index]\n",
    "    counts = bins.values\n",
    "    zipped = tuple(zip(intervals, midpoints, counts))\n",
    "    densities = [count / ring_area(inner*60, outer*60) for ((inner, outer), midpoint, count) in zipped]\n",
    "    log_dens = [np.log10(dens) if dens > 0 else 0 for dens in densities]\n",
    "    print(bins)\n",
    "    #print(intervals)\n",
    "    #print(midpoints)\n",
    "    #print(counts)\n",
    "    #print(zipped)\n",
    "    plt.grid(True, linestyle='dashed')\n",
    "    plt.title(title)\n",
    "    plt.xlabel('Radius (degrees)')\n",
    "    plt.xticks([i for i,j in intervals], rotation='vertical')\n",
    "    plt.ylabel('Logarithm of Star Density (stars/arcmin^2)')\n",
    "    plt.scatter(midpoints, log_dens, s=6, color='black')\n",
    "\n",
    "# plot both graphics side-by-side\n",
    "def plot_step2(data, cl_name):\n",
    "    fig = plt.figure(figsize=(15,6))\n",
    "    plt.subplot(121)\n",
    "    plot_chart(data, cl_name)\n",
    "    plt.subplot(122)\n",
    "    plot_RDP(data, cl_name)\n",
    "    plt.tight_layout()\n",
    "\n",
    "def ring_area(inner_rad, outer_rad):\n",
    "    return pi * (outer_rad**2 - inner_rad**2)\n",
    "    \n",
    "plot_step2(df2, cl_name)\n"
   ]
  },
  {
   "cell_type": "markdown",
   "metadata": {},
   "source": [
    "## 6 - CMD"
   ]
  },
  {
   "cell_type": "code",
   "execution_count": null,
   "metadata": {},
   "outputs": [],
   "source": [
    "# Build G mag X Parallax scatter plot\n",
    "def plot_mag_par(data, title = None):\n",
    "    plxs = data['Plx']\n",
    "    gmags = data['Gmag']\n",
    "    min_gmag, max_gmag = mag_limits(gmags)\n",
    "    min_plx, max_plx = plx_limits(plxs)\n",
    "    xs, ys = gmags, plxs\n",
    "    if title:\n",
    "        plt.title(title)\n",
    "    plt.xlabel('G (mag)')\n",
    "    plt.ylabel('Plx (mas)')\n",
    "    plt.xlim(min_gmag, max_gmag)\n",
    "    plt.ylim(min_plx, max_plx)\n",
    "    plt.grid(True, linestyle='dashed')\n",
    "    plt.scatter(xs, ys, s=3, color='black')\n",
    "\n",
    "# Build CMD (Color-Magnitude Diagram) scatter plot\n",
    "def plot_CMD(data, title = None):\n",
    "    gmags = data['Gmag']\n",
    "    colors = data['BP-G']\n",
    "    min_gmag, max_gmag = mag_limits(gmags)\n",
    "    min_color, max_color = mag_limits(colors)\n",
    "    xs, ys = colors, gmags\n",
    "    if title:\n",
    "        plt.title(title)\n",
    "    plt.xlabel('BP-G (mag)')\n",
    "    plt.ylabel('G (mag)')\n",
    "    plt.xlim(min_color, max_color)\n",
    "    plt.ylim(max_gmag, min_gmag)\n",
    "    plt.grid(True, linestyle='dashed')\n",
    "    plt.scatter(xs, ys, s=3, color='black')\n",
    "\n",
    "chosen_lim_radius = 1.15 #choose one based on the RDP printed above\n",
    "df3 = df2[df2['_r'] < chosen_lim_radius]\n",
    "#plot_mag_par(df3, cl_name)\n",
    "plot_CMD(df3, cl_name)\n"
   ]
  },
  {
   "cell_type": "code",
   "execution_count": null,
   "metadata": {},
   "outputs": [],
   "source": []
  }
 ],
 "metadata": {
  "kernelspec": {
   "display_name": "Python 3",
   "language": "python",
   "name": "python3"
  },
  "language_info": {
   "codemirror_mode": {
    "name": "ipython",
    "version": 3
   },
   "file_extension": ".py",
   "mimetype": "text/x-python",
   "name": "python",
   "nbconvert_exporter": "python",
   "pygments_lexer": "ipython3",
   "version": "3.8.5"
  }
 },
 "nbformat": 4,
 "nbformat_minor": 2
}
