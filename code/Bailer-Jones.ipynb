{
 "cells": [
  {
   "cell_type": "markdown",
   "metadata": {},
   "source": [
    "# Pipeline for analysing OCs based on Gaia EDR3 Distances"
   ]
  },
  {
   "cell_type": "markdown",
   "metadata": {},
   "source": [
    "#### Estimating distances from parallaxes. V: Geometric and photogeometric distances to 1.47 billion stars in Gaia Early Data Release 3\n",
    "#### Bailer-Jones, C. A. L.; Rybizki, J.; Fouesneau, M. and 2 more"
   ]
  },
  {
   "cell_type": "markdown",
   "metadata": {},
   "source": [
    "## 1 - Libraries"
   ]
  },
  {
   "cell_type": "code",
   "execution_count": 1,
   "metadata": {},
   "outputs": [],
   "source": [
    "import sys\n",
    "import math\n",
    "import numpy as np\n",
    "import pandas as pd\n",
    "import astropy\n",
    "import astropy.stats as ap\n",
    "import matplotlib.pyplot as plt\n",
    "import pyvo as vo\n",
    "\n",
    "from astropy import units\n",
    "from astropy.table import Table\n",
    "from astropy.coordinates import SkyCoord\n",
    "from IPython.display import display, HTML"
   ]
  },
  {
   "cell_type": "markdown",
   "metadata": {},
   "source": [
    "## 2 - Constants"
   ]
  },
  {
   "cell_type": "code",
   "execution_count": 2,
   "metadata": {},
   "outputs": [],
   "source": [
    "svc_url = 'https://dc.zah.uni-heidelberg.de/__system__/tap/run/tap'\n",
    "\n",
    "query = f'SELECT \\\n",
    "   lite.source_id \\\n",
    "   ,lite.ra \\\n",
    "   ,lite.dec \\\n",
    "   ,lite.pmra \\\n",
    "   ,lite.pmdec \\\n",
    "   ,lite.parallax \\\n",
    "   ,main.r_med_geo \\\n",
    "   ,main.r_med_photogeo \\\n",
    "   ,lite.phot_g_mean_mag \\\n",
    "FROM \\\n",
    "   gaia.edr3lite lite \\\n",
    "   INNER JOIN gedr3dist.main main ON lite.source_id = main.source_id \\\n",
    "WHERE 1=1 \\\n",
    "   AND lite.ruwe < 1.4 '\n",
    "\n",
    "# Our estimates are quantiles of a posterior probability distribution, so they transform invariably\n",
    "# and can therefore also be used directly in the distance modulus (5log10(r)-5)."
   ]
  },
  {
   "cell_type": "markdown",
   "metadata": {},
   "source": [
    "## 2 - Catalogue access"
   ]
  },
  {
   "cell_type": "code",
   "execution_count": 3,
   "metadata": {},
   "outputs": [],
   "source": [
    "def query_data(ra, de, rad, mag_min, mag_max, pmra_min, pmra_max, pmde_min, pmde_max, dist_min, dist_max):\n",
    "    qry = query\n",
    "    de_hi = de + rad + 0.0001\n",
    "    de_lo = de - rad - 0.0001\n",
    "    #the resulting query is slow using the if below\n",
    "    #if dist_lim: qry = qry + f' AND main.r_med_geo < {dist_lim}'\n",
    "    qry = qry + f' AND lite.phot_g_mean_mag > {mag_min:4.2f}'\n",
    "    qry = qry + f' AND lite.phot_g_mean_mag < {mag_max:4.2f}'\n",
    "    qry = qry + f' AND lite.dec < {de_hi:8.6f}'\n",
    "    qry = qry + f' AND lite.dec > {de_lo:8.6f}'\n",
    "    qry = qry + f' AND DISTANCE(lite.ra, lite.dec, {ra:8.6f}, {de:+8.6f}) < {rad:8.6f}'\n",
    "    tap_service = vo.dal.TAPService(svc_url)\n",
    "    #resultset = tap_service.search(qry, maxrec=160000)\n",
    "    resultset = tap_service.run_async(qry, maxrec=160000) # tap_service.hardlimit = 16000000\n",
    "    df = resultset.to_table().to_pandas()\n",
    "    df = df.set_index('source_id')\n",
    "    df = df[df['pmra'] > pmra_min]\n",
    "    df = df[df['pmra'] < pmra_max]\n",
    "    df = df[df['pmdec'] > pmde_min]\n",
    "    df = df[df['pmdec'] < pmde_max]\n",
    "    df['dist_mod'] = 5 * np.log10(df['r_med_geo']) - 5  # r_med_photogeo\n",
    "    df = df[df['r_med_geo'] > dist_min]\n",
    "    df = df[df['r_med_geo'] < dist_max]\n",
    "    df = df.sort_values(by='ra')\n",
    "    #display(df.describe())\n",
    "    return df\n",
    "\n",
    "# convert sexagesimal to decimal coordinates\n",
    "def convert(_ra, _dec, diam):\n",
    "    uns = [['h','m','s'],['d','m','s']]\n",
    "    comps = list(zip(_ra.split(' '),uns[0]))\n",
    "    ra = ''.join([item for sublist in comps for item in sublist])\n",
    "    comps = list(zip(_dec.split(' '),uns[1]))\n",
    "    dec = ''.join([item for sublist in comps for item in sublist])\n",
    "    c = SkyCoord(ra, dec, frame='icrs')\n",
    "    return c.ra.value, c.dec.value, diam / 120"
   ]
  },
  {
   "cell_type": "markdown",
   "metadata": {},
   "source": [
    "## 3 - VPD scatter plot and 2D Histogram (returning PMs for the bin with highest count)"
   ]
  },
  {
   "cell_type": "code",
   "execution_count": 4,
   "metadata": {},
   "outputs": [],
   "source": [
    "# Build a VPD (Vector Proper Motion Diagram) scatter plot\n",
    "def plot_VPD(data, title, pmra_min, pmra_max, pmde_min, pmde_max):\n",
    "    pmras = data['pmra']\n",
    "    pmdes = data['pmdec']\n",
    "    plt.title(title)\n",
    "    plt.xlim(pmra_min, pmra_max)\n",
    "    plt.ylim(pmde_min, pmde_max)\n",
    "    plt.xlabel('pmRA (mas/yr)')\n",
    "    plt.ylabel('pmDe (mas/yr)')\n",
    "    plt.grid(True, linestyle='dashed')\n",
    "    plt.scatter(pmras, pmdes, s=3, color='black')\n",
    "\n",
    "# Build 2D histogram for proper motions and returns average PMs for the bin with the highest count\n",
    "def plot_pm_hist(data, pmra_min, pmra_max, pmde_min, pmde_max, num_bins = 15):\n",
    "    xs = data['pmra']\n",
    "    ys = data['pmdec']\n",
    "    _range = [[pmra_min, pmra_max], [pmde_min, pmde_max]]\n",
    "    counts, xedges, yedges = np.histogram2d(xs, ys, bins = num_bins, range = _range)\n",
    "    x_ind, y_ind = np.unravel_index(np.argmax(counts), counts.shape)\n",
    "    est_pmRA = (xedges[x_ind] + xedges[x_ind+1]) / 2\n",
    "    est_pmDe = (yedges[y_ind] + yedges[y_ind+1]) / 2\n",
    "    plt.imshow(counts.T, origin = 'lower')\n",
    "    plt.xlabel('pmRA bin index')\n",
    "    plt.ylabel('pmDE bin index')\n",
    "    plt.plot(x_ind, y_ind, 'or')\n",
    "    return est_pmRA, est_pmDe\n",
    "\n",
    "# Build G mag X Distance Modulus scatter plot\n",
    "def plot_mag_par(data):\n",
    "    dists = data['dist_mod']\n",
    "    gmags = data['phot_g_mean_mag']\n",
    "    plt.xlabel('G (mag)')\n",
    "    plt.ylabel('Dist. Mod. (mag)')\n",
    "    plt.grid(True, linestyle='dashed')\n",
    "    plt.scatter(gmags, dists, s=3, color='black')\n",
    "    \n",
    "def constrain_by_pms(data, est_pmra, est_pmde, limit = 1.5):\n",
    "    def filter_pms(pmra, pmde):\n",
    "        return (abs(est_pmra - pmra) < limit) and (abs(est_pmde - pmde) < limit)\n",
    "    filter_fn = lambda x: filter_pms(x['pmra'], x['pmdec'])\n",
    "    return data[data.apply(filter_fn, axis = 1)]\n",
    "\n",
    "# plot estimates and both graphics side-by-side\n",
    "def plot_all(data, cl_name, pmra_min, pmra_max, pmde_min, pmde_max, num_bins, limit):\n",
    "    fig = plt.figure(figsize=(15,5))\n",
    "    plt.subplot(131)\n",
    "    plot_VPD(data, cl_name, pmra_min, pmra_max, pmde_min, pmde_max)\n",
    "    plt.subplot(132)\n",
    "    est_pmra, est_pmde = plot_pm_hist(data, pmra_min, pmra_max, pmde_min, pmde_max, num_bins)\n",
    "    plt.subplot(133)\n",
    "    pm_constrained_data = constrain_by_pms(data, est_pmra, est_pmde, limit)\n",
    "    plot_mag_par(pm_constrained_data)\n",
    "    plt.tight_layout()\n",
    "    return pm_constrained_data"
   ]
  },
  {
   "cell_type": "markdown",
   "metadata": {},
   "source": [
    "## 4 - Do the calculations"
   ]
  },
  {
   "cell_type": "code",
   "execution_count": 5,
   "metadata": {},
   "outputs": [],
   "source": [
    "def calc_vals(pm_constrained_data, dist_min, dist_max):\n",
    "    pm_constrained_data    = pm_constrained_data[pm_constrained_data['r_med_geo'] > dist_min]\n",
    "    final_constrained_data = pm_constrained_data[pm_constrained_data['r_med_geo'] < dist_max]\n",
    "    dsts = final_constrained_data['r_med_geo']\n",
    "    mods = final_constrained_data['dist_mod']\n",
    "    pars = final_constrained_data['parallax']\n",
    "    pmra = final_constrained_data['pmra']\n",
    "    pmde = final_constrained_data['pmdec']\n",
    "    gmag = final_constrained_data['phot_g_mean_mag']\n",
    "    dist, e_dist = np.median(dsts),  ap.median_absolute_deviation(dsts)\n",
    "    mod,  e_mod  = np.median(mods),  ap.median_absolute_deviation(mods)\n",
    "    par,  e_par  = np.median(pars),  ap.median_absolute_deviation(pars)\n",
    "    pmra, e_pmra = np.median(pmra),  ap.median_absolute_deviation(pmra)\n",
    "    pmde, e_pmde = np.median(pmde),  ap.median_absolute_deviation(pmde)\n",
    "    gmin, gmax   = np.min(gmag),     np.max(gmag)\n",
    "    n = len(dsts)\n",
    "    return (dist, e_dist, mod, e_mod, par, e_par, pmra, e_pmra, pmde, e_pmde, gmin, gmax, n)\n",
    "\n",
    "def check_reality(par, epra, epde):\n",
    "    \"\"\" see arXiv:1911.07075 \"\"\"\n",
    "    err = math.sqrt(epra * epra + epde * epde)\n",
    "    is_real = err < 1 if par < 1 else err < (5 * math.sqrt(2) * (par/4.74))\n",
    "    return 'y' if is_real else 'n'\n",
    "\n",
    "def print_estimates(name, coords, dia, derived_vals):\n",
    "    coo = coords.replace(' ','').replace('.','')\n",
    "    dst, e_dst, mod, e_mod, par, e_par, pra, e_pra, pde, e_pde, gmin, gmax, n = derived_vals\n",
    "    is_real = check_reality(par, e_pra, e_pde)\n",
    "    diaf   = f'{dia:6.1f}'\n",
    "    distf  = f'{dst:6.1f}'\n",
    "    edistf = f'{e_dst:6.1f}'\n",
    "    modf   = f'{mod:7.3f}'\n",
    "    emodf  = f'{e_mod:4.3f}'\n",
    "    parf   = f'{par:7.3f}'\n",
    "    eparf  = f'{e_par:4.3f}'\n",
    "    pmraf  = f'{pra:+7.3f}'\n",
    "    epmraf = f'{e_pra:4.3f}'\n",
    "    pmdef  = f'{pde:+7.3f}'\n",
    "    epmdef = f'{e_pde:4.3f}'\n",
    "    gmagf  = f'{gmin:5.2f}..{gmax:5.2f}'\n",
    "    estimates =  f'{name:<10} '\n",
    "    estimates += f'{is_real:<2}'\n",
    "    estimates += f'{coo:<15}'\n",
    "    estimates += f'{diaf:>5} '\n",
    "    estimates += f'{distf:>7} {edistf:>6} '\n",
    "    estimates += f'{modf:>6} {emodf:>5}'\n",
    "    estimates += f'{parf:>6} {eparf:>5} '\n",
    "    estimates += f'{pmraf:>8}{epmraf:>6} '\n",
    "    estimates += f'{pmdef:>8}{epmdef:>6} '\n",
    "    estimates += f'{n:>5} '\n",
    "    estimates += f'{gmagf:>12} '\n",
    "    print(estimates)\n",
    "\n",
    "def coord_split(coords, diam):\n",
    "    has_minus = '-' in coords\n",
    "    ra_sexa, de_sexa = coords.split('-') if has_minus else coords.split('+')\n",
    "    de_sexa = '-' + de_sexa if has_minus else de_sexa\n",
    "    return convert(ra_sexa.strip(), de_sexa.strip(), diam)\n",
    "    \n",
    "def range_split(range):\n",
    "    _min, _max = range.split('..')\n",
    "    return float(_min), float(_max)\n",
    "\n",
    "def process(name, coords, diam, mag_range, pmra_range, pmde_range, dist_range, num_bins, limit):\n",
    "    ra_deg, de_deg, rad_deg = coord_split(coords, diam)\n",
    "    mag_min,  mag_max  = range_split(mag_range)\n",
    "    pmra_min, pmra_max = range_split(pmra_range)\n",
    "    pmde_min, pmde_max = range_split(pmde_range)\n",
    "    dist_min, dist_max = range_split(dist_range)\n",
    "    df = query_data(ra_deg, de_deg, rad_deg, mag_min, mag_max, pmra_min, pmra_max, pmde_min, pmde_max, dist_min, dist_max)\n",
    "    pm_cons_data = plot_all(df, name, pmra_min, pmra_max, pmde_min, pmde_max, num_bins, limit)\n",
    "    derived_vals = calc_vals(pm_cons_data, dist_min, dist_max)\n",
    "    cl_data = (name, ra_deg, de_deg, rad_deg, derived_vals)\n",
    "    print_estimates(name, coords, diam, derived_vals)\n",
    "    return cl_data"
   ]
  },
  {
   "cell_type": "markdown",
   "metadata": {},
   "source": [
    "## 5 - Run"
   ]
  },
  {
   "cell_type": "code",
   "execution_count": null,
   "metadata": {
    "scrolled": false
   },
   "outputs": [],
   "source": [
    "#process(name, coords, diam_arcm, mag_rng, pmra_rng, pmde_rng, dist_rng, num_bins, hist_pm_lim)\n",
    "#dd = process('Ale 62', '18 56 06.2 +21 35 49', 36.0, '0..19', '-10..10', '-10..10', '0..1000', 15, 1.5)\n",
    "\n",
    "#dd = process('Renou 14', '22 34 46.4 +29 55 51', 42.0, '0..19', '12..8', '-10..10', '0..500', 15, 1.5) # 316 -7.91 -4.70\n",
    "#dd = process('Eps Cap', '21 37 04.6 -19 27 57', 160.0, '0..18', '0..20', '-10..10', '220..340', 10, 3)\n",
    "dd = process('Beta Cap', '20 21 01.0 -14 46 53', 420.0, '0..18', '-30..40', '-50..20', '190..240', 10, 3)"
   ]
  },
  {
   "cell_type": "markdown",
   "metadata": {},
   "source": [
    "## 6 - Chart and RDP scatter plot (constrained by the estimated values)"
   ]
  },
  {
   "cell_type": "code",
   "execution_count": 7,
   "metadata": {},
   "outputs": [
    {
     "ename": "AttributeError",
     "evalue": "'Float64Index' object has no attribute 'to_tuples'",
     "output_type": "error",
     "traceback": [
      "\u001b[1;31m---------------------------------------------------------------------------\u001b[0m",
      "\u001b[1;31mAttributeError\u001b[0m                            Traceback (most recent call last)",
      "\u001b[1;32m<ipython-input-7-00358a17deef>\u001b[0m in \u001b[0;36m<module>\u001b[1;34m\u001b[0m\n\u001b[0;32m     54\u001b[0m     \u001b[0mplot_chart_and_rdp\u001b[0m\u001b[1;33m(\u001b[0m\u001b[0mdf2\u001b[0m\u001b[1;33m,\u001b[0m \u001b[0mra_deg\u001b[0m\u001b[1;33m,\u001b[0m \u001b[0mde_deg\u001b[0m\u001b[1;33m,\u001b[0m \u001b[0mnum_bins\u001b[0m\u001b[1;33m,\u001b[0m \u001b[0mcl_name\u001b[0m\u001b[1;33m)\u001b[0m\u001b[1;33m\u001b[0m\u001b[1;33m\u001b[0m\u001b[0m\n\u001b[0;32m     55\u001b[0m \u001b[1;33m\u001b[0m\u001b[0m\n\u001b[1;32m---> 56\u001b[1;33m \u001b[0mdo_step_6\u001b[0m\u001b[1;33m(\u001b[0m\u001b[0mdd\u001b[0m\u001b[1;33m)\u001b[0m\u001b[1;33m\u001b[0m\u001b[1;33m\u001b[0m\u001b[0m\n\u001b[0m",
      "\u001b[1;32m<ipython-input-7-00358a17deef>\u001b[0m in \u001b[0;36mdo_step_6\u001b[1;34m(cl_data, rad_mul, num_bins)\u001b[0m\n\u001b[0;32m     52\u001b[0m     \u001b[0mdf2\u001b[0m \u001b[1;33m=\u001b[0m \u001b[0mquery_data\u001b[0m\u001b[1;33m(\u001b[0m\u001b[0mra_deg\u001b[0m\u001b[1;33m,\u001b[0m \u001b[0mde_deg\u001b[0m\u001b[1;33m,\u001b[0m \u001b[0mrad\u001b[0m\u001b[1;33m,\u001b[0m \u001b[0mgmin\u001b[0m\u001b[1;33m,\u001b[0m \u001b[0mgmax\u001b[0m\u001b[1;33m,\u001b[0m \u001b[0mpmra_min\u001b[0m\u001b[1;33m,\u001b[0m \u001b[0mpmra_max\u001b[0m\u001b[1;33m,\u001b[0m \u001b[0mpmde_min\u001b[0m\u001b[1;33m,\u001b[0m \u001b[0mpmde_max\u001b[0m\u001b[1;33m,\u001b[0m \u001b[0mdist_min\u001b[0m\u001b[1;33m,\u001b[0m \u001b[0mdist_max\u001b[0m\u001b[1;33m)\u001b[0m\u001b[1;33m\u001b[0m\u001b[1;33m\u001b[0m\u001b[0m\n\u001b[0;32m     53\u001b[0m     \u001b[0mdf2\u001b[0m\u001b[1;33m[\u001b[0m\u001b[1;34m'_r'\u001b[0m\u001b[1;33m]\u001b[0m \u001b[1;33m=\u001b[0m \u001b[0mdf2\u001b[0m\u001b[1;33m.\u001b[0m\u001b[0mapply\u001b[0m \u001b[1;33m(\u001b[0m\u001b[1;32mlambda\u001b[0m \u001b[0mrow\u001b[0m\u001b[1;33m:\u001b[0m \u001b[0mcalc_rad\u001b[0m\u001b[1;33m(\u001b[0m\u001b[0mra_deg\u001b[0m\u001b[1;33m,\u001b[0m \u001b[0mde_deg\u001b[0m\u001b[1;33m,\u001b[0m \u001b[0mrow\u001b[0m\u001b[1;33m)\u001b[0m\u001b[1;33m,\u001b[0m \u001b[0maxis\u001b[0m\u001b[1;33m=\u001b[0m\u001b[1;36m1\u001b[0m\u001b[1;33m)\u001b[0m\u001b[1;33m\u001b[0m\u001b[1;33m\u001b[0m\u001b[0m\n\u001b[1;32m---> 54\u001b[1;33m     \u001b[0mplot_chart_and_rdp\u001b[0m\u001b[1;33m(\u001b[0m\u001b[0mdf2\u001b[0m\u001b[1;33m,\u001b[0m \u001b[0mra_deg\u001b[0m\u001b[1;33m,\u001b[0m \u001b[0mde_deg\u001b[0m\u001b[1;33m,\u001b[0m \u001b[0mnum_bins\u001b[0m\u001b[1;33m,\u001b[0m \u001b[0mcl_name\u001b[0m\u001b[1;33m)\u001b[0m\u001b[1;33m\u001b[0m\u001b[1;33m\u001b[0m\u001b[0m\n\u001b[0m\u001b[0;32m     55\u001b[0m \u001b[1;33m\u001b[0m\u001b[0m\n\u001b[0;32m     56\u001b[0m \u001b[0mdo_step_6\u001b[0m\u001b[1;33m(\u001b[0m\u001b[0mdd\u001b[0m\u001b[1;33m)\u001b[0m\u001b[1;33m\u001b[0m\u001b[1;33m\u001b[0m\u001b[0m\n",
      "\u001b[1;32m<ipython-input-7-00358a17deef>\u001b[0m in \u001b[0;36mplot_chart_and_rdp\u001b[1;34m(data, ra_deg, de_deg, num_bins, cl_name)\u001b[0m\n\u001b[0;32m     30\u001b[0m     \u001b[0mplot_chart\u001b[0m\u001b[1;33m(\u001b[0m\u001b[0mdata\u001b[0m\u001b[1;33m,\u001b[0m \u001b[0mra_deg\u001b[0m\u001b[1;33m,\u001b[0m \u001b[0mde_deg\u001b[0m\u001b[1;33m,\u001b[0m \u001b[0mcl_name\u001b[0m\u001b[1;33m)\u001b[0m\u001b[1;33m\u001b[0m\u001b[1;33m\u001b[0m\u001b[0m\n\u001b[0;32m     31\u001b[0m     \u001b[0mplt\u001b[0m\u001b[1;33m.\u001b[0m\u001b[0msubplot\u001b[0m\u001b[1;33m(\u001b[0m\u001b[1;36m122\u001b[0m\u001b[1;33m)\u001b[0m\u001b[1;33m\u001b[0m\u001b[1;33m\u001b[0m\u001b[0m\n\u001b[1;32m---> 32\u001b[1;33m     \u001b[0mplot_RDP\u001b[0m\u001b[1;33m(\u001b[0m\u001b[0mdata\u001b[0m\u001b[1;33m,\u001b[0m \u001b[0mnum_bins\u001b[0m\u001b[1;33m,\u001b[0m \u001b[0mcl_name\u001b[0m\u001b[1;33m)\u001b[0m\u001b[1;33m\u001b[0m\u001b[1;33m\u001b[0m\u001b[0m\n\u001b[0m\u001b[0;32m     33\u001b[0m     \u001b[0mplt\u001b[0m\u001b[1;33m.\u001b[0m\u001b[0mtight_layout\u001b[0m\u001b[1;33m(\u001b[0m\u001b[1;33m)\u001b[0m\u001b[1;33m\u001b[0m\u001b[1;33m\u001b[0m\u001b[0m\n\u001b[0;32m     34\u001b[0m \u001b[1;33m\u001b[0m\u001b[0m\n",
      "\u001b[1;32m<ipython-input-7-00358a17deef>\u001b[0m in \u001b[0;36mplot_RDP\u001b[1;34m(data, num_bins, title)\u001b[0m\n\u001b[0;32m     12\u001b[0m         \u001b[1;32mreturn\u001b[0m \u001b[0mpi\u001b[0m \u001b[1;33m*\u001b[0m \u001b[1;33m(\u001b[0m\u001b[0mouter_rad\u001b[0m\u001b[1;33m**\u001b[0m\u001b[1;36m2\u001b[0m \u001b[1;33m-\u001b[0m \u001b[0minner_rad\u001b[0m\u001b[1;33m**\u001b[0m\u001b[1;36m2\u001b[0m\u001b[1;33m)\u001b[0m\u001b[1;33m\u001b[0m\u001b[1;33m\u001b[0m\u001b[0m\n\u001b[0;32m     13\u001b[0m     \u001b[0mbins\u001b[0m \u001b[1;33m=\u001b[0m \u001b[0mdata\u001b[0m\u001b[1;33m[\u001b[0m\u001b[1;34m'_r'\u001b[0m\u001b[1;33m]\u001b[0m\u001b[1;33m.\u001b[0m\u001b[0mvalue_counts\u001b[0m\u001b[1;33m(\u001b[0m\u001b[0mnum_bins\u001b[0m\u001b[1;33m)\u001b[0m\u001b[1;33m.\u001b[0m\u001b[0msort_index\u001b[0m\u001b[1;33m(\u001b[0m\u001b[1;33m)\u001b[0m\u001b[1;33m\u001b[0m\u001b[1;33m\u001b[0m\u001b[0m\n\u001b[1;32m---> 14\u001b[1;33m     \u001b[0mintervals\u001b[0m \u001b[1;33m=\u001b[0m \u001b[0mbins\u001b[0m\u001b[1;33m.\u001b[0m\u001b[0mindex\u001b[0m\u001b[1;33m.\u001b[0m\u001b[0mto_tuples\u001b[0m\u001b[1;33m(\u001b[0m\u001b[1;33m)\u001b[0m\u001b[1;33m\u001b[0m\u001b[1;33m\u001b[0m\u001b[0m\n\u001b[0m\u001b[0;32m     15\u001b[0m     \u001b[0mmidpoints\u001b[0m \u001b[1;33m=\u001b[0m \u001b[1;33m[\u001b[0m\u001b[0mi\u001b[0m\u001b[1;33m.\u001b[0m\u001b[0mmid\u001b[0m \u001b[1;32mfor\u001b[0m \u001b[0mi\u001b[0m \u001b[1;32min\u001b[0m \u001b[0mbins\u001b[0m\u001b[1;33m.\u001b[0m\u001b[0mindex\u001b[0m\u001b[1;33m]\u001b[0m\u001b[1;33m\u001b[0m\u001b[1;33m\u001b[0m\u001b[0m\n\u001b[0;32m     16\u001b[0m     \u001b[0mcounts\u001b[0m \u001b[1;33m=\u001b[0m \u001b[0mbins\u001b[0m\u001b[1;33m.\u001b[0m\u001b[0mvalues\u001b[0m\u001b[1;33m\u001b[0m\u001b[1;33m\u001b[0m\u001b[0m\n",
      "\u001b[1;31mAttributeError\u001b[0m: 'Float64Index' object has no attribute 'to_tuples'"
     ]
    },
    {
     "data": {
      "image/png": "[encoded data removed]",
      "text/plain": [
       "<Figure size 1080x432 with 2 Axes>"
      ]
     },
     "metadata": {
      "needs_background": "light"
     },
     "output_type": "display_data"
    }
   ],
   "source": [
    "def plot_chart(data, ra_deg, de_deg, title):\n",
    "    xs, ys = data['ra'], data['dec']\n",
    "    plt.title(title)\n",
    "    plt.xlabel('RA (degrees)')\n",
    "    plt.ylabel('De (degrees)')\n",
    "    plt.grid(True, linestyle='dashed')\n",
    "    plt.scatter(xs, ys, s=3, color='black')\n",
    "    plt.plot([ra_deg], [de_deg], marker='o', markersize=3, color=\"red\")\n",
    "\n",
    "def plot_RDP(data, num_bins, title = None):\n",
    "    def ring_area(inner_rad, outer_rad):\n",
    "        return pi * (outer_rad**2 - inner_rad**2)\n",
    "    bins = data['_r'].value_counts(num_bins).sort_index()\n",
    "    intervals = bins.index.to_tuples()\n",
    "    midpoints = [i.mid for i in bins.index]\n",
    "    counts = bins.values\n",
    "    zipped = tuple(zip(intervals, midpoints, counts))\n",
    "    densities = [count / ring_area(inner*60, outer*60) for ((inner, outer), midpoint, count) in zipped]\n",
    "    log_dens = [np.log10(dens) if dens > 0 else 0 for dens in densities]\n",
    "    plt.grid(True, linestyle='dashed')\n",
    "    plt.title(title)\n",
    "    plt.xlabel('Radius (degrees)')\n",
    "    plt.xticks([i for i,j in intervals], rotation='vertical')\n",
    "    plt.ylabel('Logarithm of Star Density (stars/arcmin^2)')\n",
    "    plt.scatter(midpoints, log_dens, s=6, color='black')\n",
    "\n",
    "def plot_chart_and_rdp(data, ra_deg, de_deg, num_bins, cl_name):\n",
    "    fig = plt.figure(figsize=(15,6))\n",
    "    plt.subplot(121)\n",
    "    plot_chart(data, ra_deg, de_deg, cl_name)\n",
    "    plt.subplot(122)\n",
    "    plot_RDP(data, num_bins, cl_name)\n",
    "    plt.tight_layout()\n",
    "\n",
    "def calc_rad(ra_center, de_center, row):\n",
    "    _ra = row['ra']\n",
    "    _de = row['dec']\n",
    "    cl_center = SkyCoord(ra=ra_center*units.degree, dec=de_center*units.degree, frame='icrs')\n",
    "    st_coord  = SkyCoord(ra=_ra*units.degree, dec=_de*units.degree, frame='icrs')\n",
    "    return cl_center.separation(st_coord).degree\n",
    "\n",
    "def do_step_6(cl_data, rad_mul = 2, num_bins = 25):\n",
    "    cl_name, ra_deg, de_deg, rad_deg, derived_vals = cl_data\n",
    "    dst, e_dst, mod, e_mod, par, e_par, pra, e_pra, pde, e_pde, gmin, gmax, n = derived_vals\n",
    "    rad = rad_mul * rad_deg\n",
    "    pmra_min = pra - (1 if e_pra < 0.5 else 2 * e_pra)\n",
    "    pmra_max = pra + (1 if e_pra < 0.5 else 2 * e_pra) \n",
    "    pmde_min = pde - (1 if e_pde < 0.5 else 2 * e_pde)\n",
    "    pmde_max = pde + (1 if e_pde < 0.5 else 2 * e_pde)\n",
    "    dist_min = dst - (200 if e_dst < 100 else 2 * e_dst) \n",
    "    dist_max = dst + (200 if e_dst < 100 else 2 * e_dst) \n",
    "    df2 = query_data(ra_deg, de_deg, rad, gmin, gmax, pmra_min, pmra_max, pmde_min, pmde_max, dist_min, dist_max)\n",
    "    df2['_r'] = df2.apply (lambda row: calc_rad(ra_deg, de_deg, row), axis=1)\n",
    "    plot_chart_and_rdp(df2, ra_deg, de_deg, num_bins, cl_name)\n",
    "\n",
    "do_step_6(dd)"
   ]
  }
 ],
 "metadata": {
  "kernelspec": {
   "display_name": "Python 3",
   "language": "python",
   "name": "python3"
  },
  "language_info": {
   "codemirror_mode": {
    "name": "ipython",
    "version": 3
   },
   "file_extension": ".py",
   "mimetype": "text/x-python",
   "name": "python",
   "nbconvert_exporter": "python",
   "pygments_lexer": "ipython3",
   "version": "3.8.5"
  }
 },
 "nbformat": 4,
 "nbformat_minor": 4
}
