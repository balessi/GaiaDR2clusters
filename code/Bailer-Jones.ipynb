{
 "cells": [
  {
   "cell_type": "markdown",
   "metadata": {},
   "source": [
    "# Pipeline for analysing OCs based on Gaia EDR3 Distances"
   ]
  },
  {
   "cell_type": "markdown",
   "metadata": {},
   "source": [
    "#### Estimating distances from parallaxes. V: Geometric and photogeometric distances to 1.47 billion stars in Gaia Early Data Release 3\n",
    "#### Bailer-Jones, C. A. L.; Rybizki, J.; Fouesneau, M. and 2 more"
   ]
  },
  {
   "cell_type": "markdown",
   "metadata": {},
   "source": [
    "## 1 - Libraries"
   ]
  },
  {
   "cell_type": "code",
   "execution_count": 1,
   "metadata": {},
   "outputs": [],
   "source": [
    "import sys\n",
    "import numpy as np\n",
    "import pandas as pd\n",
    "import astropy\n",
    "import astropy.stats as ap\n",
    "import matplotlib.pyplot as plt\n",
    "import pyvo as vo\n",
    "\n",
    "from astropy import units\n",
    "from astropy.table import Table\n",
    "from astropy.coordinates import SkyCoord\n",
    "from IPython.display import display, HTML"
   ]
  },
  {
   "cell_type": "markdown",
   "metadata": {},
   "source": [
    "## 2 - Constants"
   ]
  },
  {
   "cell_type": "code",
   "execution_count": 2,
   "metadata": {},
   "outputs": [],
   "source": [
    "svc_url = 'https://dc.zah.uni-heidelberg.de/__system__/tap/run/tap'\n",
    "\n",
    "query = f'SELECT \\\n",
    "   lite.source_id \\\n",
    "   ,lite.ra \\\n",
    "   ,lite.dec \\\n",
    "   ,lite.pmra \\\n",
    "   ,lite.pmdec \\\n",
    "   ,lite.parallax \\\n",
    "   ,main.r_med_geo \\\n",
    "   ,main.r_med_photogeo \\\n",
    "   ,lite.phot_g_mean_mag \\\n",
    "FROM \\\n",
    "   gaia.edr3lite lite \\\n",
    "   INNER JOIN gedr3dist.main main ON lite.source_id = main.source_id \\\n",
    "WHERE 1=1 \\\n",
    "   AND lite.ruwe < 1.4 '\n",
    "\n",
    "uns = [['h','m','s'],['d','m','s']]\n",
    "\n",
    "# Our estimates are quantiles of a posterior probability distribution, so they transform invariably\n",
    "# and can therefore also be used directly in the distance modulus (5log10(r)-5)."
   ]
  },
  {
   "cell_type": "markdown",
   "metadata": {},
   "source": [
    "## 2 - Catalogue access"
   ]
  },
  {
   "cell_type": "code",
   "execution_count": 3,
   "metadata": {},
   "outputs": [],
   "source": [
    "def query_data(ra, de, rad, mag_lim, pmra_min, pmra_max, pmde_min, pmde_max, dist_upper_lim):\n",
    "    qry = query\n",
    "    de_hi = de + rad + 0.0001\n",
    "    de_lo = de - rad - 0.0001\n",
    "    #the resulting query is slow using the if below\n",
    "    #if dist_lim:\n",
    "    #    qry = qry + f' AND main.r_med_geo < {dist_lim}'\n",
    "    if '>' in mag_lim:\n",
    "        mlim = float(mag_lim.replace('>',''))\n",
    "        qry = qry + f' AND lite.phot_g_mean_mag > {mlim:4.2f}'\n",
    "    else:\n",
    "        qry = qry + f' AND lite.phot_g_mean_mag < {float(mag_lim):4.2f}'\n",
    "    qry = qry + f' AND lite.dec < {de_hi:8.6f}'\n",
    "    qry = qry + f' AND lite.dec > {de_lo:8.6f}'\n",
    "    qry = qry + f' AND DISTANCE(lite.ra, lite.dec, {ra:8.6f}, {de:+8.6f}) < {rad:8.6f}'\n",
    "    tap_service = vo.dal.TAPService(svc_url)\n",
    "    #resultset = tap_service.search(qry, maxrec=160000)\n",
    "    resultset = tap_service.run_async(qry, maxrec=160000) # tap_service.hardlimit = 16000000\n",
    "    df = resultset.to_table().to_pandas()\n",
    "    df = df.set_index('source_id')\n",
    "    df = df[df['pmra'] > pmra_min]\n",
    "    df = df[df['pmra'] < pmra_max]\n",
    "    df = df[df['pmdec'] > pmde_min]\n",
    "    df = df[df['pmdec'] < pmde_max]\n",
    "    df = df.sort_values(by='ra')\n",
    "    df['dist_mod'] = 5 * np.log10(df['r_med_geo']) - 5\n",
    "    df = df[df['dist_mod'] < dist_upper_lim]\n",
    "    #display(df.describe())\n",
    "    return df\n",
    "\n",
    "# convert sexagesimal to decimal coordinates\n",
    "def convert(_ra, _dec, diam):\n",
    "    comps = list(zip(_ra.split(' '),uns[0]))\n",
    "    ra = ''.join([item for sublist in comps for item in sublist])\n",
    "    comps = list(zip(_dec.split(' '),uns[1]))\n",
    "    dec = ''.join([item for sublist in comps for item in sublist])\n",
    "    c = SkyCoord(ra, dec, frame='icrs')\n",
    "    return c.ra.value, c.dec.value, diam / 120"
   ]
  },
  {
   "cell_type": "markdown",
   "metadata": {},
   "source": [
    "## 3 - VPD scatter plot and 2D Histogram (returning PMs for the bin with highest count)"
   ]
  },
  {
   "cell_type": "code",
   "execution_count": 4,
   "metadata": {},
   "outputs": [],
   "source": [
    "# Build a VPD (Vector Proper Motion Diagram) scatter plot\n",
    "def plot_VPD(data, title, pmra_min, pmra_max, pmde_min, pmde_max):\n",
    "    pmras = data['pmra']\n",
    "    pmdes = data['pmdec']\n",
    "    plt.title(title)\n",
    "    plt.xlim(pmra_min, pmra_max)\n",
    "    plt.ylim(pmde_min, pmde_max)\n",
    "    plt.xlabel('pmRA (mas/yr)')\n",
    "    plt.ylabel('pmDe (mas/yr)')\n",
    "    plt.grid(True, linestyle='dashed')\n",
    "    plt.scatter(pmras, pmdes, s=3, color='black')\n",
    "\n",
    "# Build 2D histogram for proper motions and returns average PMs for the bin with the highest count\n",
    "def plot_pm_hist(data, pmra_min, pmra_max, pmde_min, pmde_max, num_bins = 15):\n",
    "    xs = data['pmra']\n",
    "    ys = data['pmdec']\n",
    "    _range = [[pmra_min, pmra_max], [pmde_min, pmde_max]]\n",
    "    counts, xedges, yedges = np.histogram2d(xs, ys, bins = num_bins, range = _range)\n",
    "    x_ind, y_ind = np.unravel_index(np.argmax(counts), counts.shape)\n",
    "    est_pmRA = (xedges[x_ind] + xedges[x_ind+1]) / 2\n",
    "    est_pmDe = (yedges[y_ind] + yedges[y_ind+1]) / 2\n",
    "    plt.imshow(counts.T, origin = 'lower')\n",
    "    plt.xlabel('pmRA bin index')\n",
    "    plt.ylabel('pmDE bin index')\n",
    "    plt.plot(x_ind, y_ind, 'or')\n",
    "    return est_pmRA, est_pmDe\n",
    "\n",
    "# Build G mag X Distance Modulus scatter plot\n",
    "def plot_mag_par(data):\n",
    "    dists = data['dist_mod']\n",
    "    gmags = data['phot_g_mean_mag']\n",
    "    plt.xlabel('G (mag)')\n",
    "    plt.ylabel('Dist. Mod. (mag)')\n",
    "    plt.grid(True, linestyle='dashed')\n",
    "    plt.scatter(gmags, dists, s=3, color='black')\n",
    "    \n",
    "def constrain_by_pms(data, est_pmra, est_pmde, limit = 1.5):\n",
    "    def filter_pms(pmra, pmde):\n",
    "        return (abs(est_pmra - pmra) < limit) and (abs(est_pmde - pmde) < limit)\n",
    "    filter_fn = lambda x: filter_pms(x['pmra'], x['pmdec'])\n",
    "    return data[data.apply(filter_fn, axis = 1)]\n",
    "\n",
    "# plot estimates and both graphics side-by-side\n",
    "def plot_all(data, cl_name, pmra_min, pmra_max, pmde_min, pmde_max, num_bins, limit):\n",
    "    fig = plt.figure(figsize=(15,5))\n",
    "    plt.subplot(131)\n",
    "    plot_VPD(data, cl_name, pmra_min, pmra_max, pmde_min, pmde_max)\n",
    "    plt.subplot(132)\n",
    "    est_pmra, est_pmde = plot_pm_hist(data, pmra_min, pmra_max, pmde_min, pmde_max, num_bins)\n",
    "    plt.subplot(133)\n",
    "    pm_constrained_data = constrain_by_pms(data, est_pmra, est_pmde, limit)\n",
    "    plot_mag_par(pm_constrained_data)\n",
    "    plt.tight_layout()\n",
    "    return pm_constrained_data"
   ]
  },
  {
   "cell_type": "markdown",
   "metadata": {},
   "source": [
    "## 4 - Do the calculations"
   ]
  },
  {
   "cell_type": "code",
   "execution_count": 5,
   "metadata": {},
   "outputs": [],
   "source": [
    "def calc_vals(pm_constrained_data, dmod_min, dmod_max):\n",
    "    pm_constrained_data    = pm_constrained_data[pm_constrained_data['dist_mod'] < dmod_max]\n",
    "    final_constrained_data = pm_constrained_data[pm_constrained_data['dist_mod'] > dmod_min]\n",
    "    dsts = final_constrained_data['r_med_geo']\n",
    "    mods = final_constrained_data['dist_mod']\n",
    "    pars = final_constrained_data['parallax']\n",
    "    pmra = final_constrained_data['pmra']\n",
    "    pmde = final_constrained_data['pmdec']\n",
    "    gmag = final_constrained_data['phot_g_mean_mag']\n",
    "    dist, e_dist = np.median(dsts),  ap.median_absolute_deviation(dsts)\n",
    "    mod,  e_mod  = np.median(mods),  ap.median_absolute_deviation(mods)\n",
    "    par,  e_par  = np.median(pars),  ap.median_absolute_deviation(pars)\n",
    "    pmra, e_pmra = np.median(pmra),  ap.median_absolute_deviation(pmra)\n",
    "    pmde, e_pmde = np.median(pmde),  ap.median_absolute_deviation(pmde)\n",
    "    gmin, gmax   = np.min(gmag),     np.max(gmag)\n",
    "    n = len(dsts)\n",
    "    return dist, e_dist, mod, e_mod, par, e_par, pmra, e_pmra, pmde, e_pmde, gmin, gmax, n\n",
    "\n",
    "def print_estimates(name, coo, dia, dist, e_dist, mod, e_mod, par, e_par, pmra, e_pmra, pmde, e_pmde, gmin, gmax, n):\n",
    "    diaf   = f'{dia:6.1f}'\n",
    "    distf  = f'{dist:6.1f}'\n",
    "    edistf = f'{e_dist:6.1f}'\n",
    "    modf   = f'{mod:7.3f}'\n",
    "    emodf  = f'{e_mod:4.3f}'\n",
    "    parf   = f'{par:7.3f}'\n",
    "    eparf  = f'{e_par:4.3f}'\n",
    "    pmraf  = f'{pmra:+7.3f}'\n",
    "    epmraf = f'{e_pmra:4.3f}'\n",
    "    pmdef  = f'{pmde:+7.3f}'\n",
    "    epmdef = f'{e_pmde:4.3f}'\n",
    "    gmagf  = f'{gmin:5.2f}..{gmax:5.2f}'\n",
    "    estimates =  f'{name:<10} '\n",
    "    estimates += f'{coo:<15}'\n",
    "    estimates += f'{diaf:>5} '\n",
    "    estimates += f'{distf:>7} {edistf:>6}'\n",
    "    estimates += f'{modf:>6} {emodf:>5}'\n",
    "    estimates += f'{parf:>6} {eparf:>5} '\n",
    "    estimates += f'{pmraf:>8} {epmraf:>6} '\n",
    "    estimates += f'{pmdef:>8} {epmdef:>6} '\n",
    "    estimates += f'{n:>5} '\n",
    "    estimates += f'{gmagf:>12} '\n",
    "    print(estimates)\n",
    "    \n",
    "def process(name, coords, diam, mag_lim, pmra_range, pmde_range, dist_upper_lim, dmod_min, dmod_max, num_bins, limit):\n",
    "    has_minus = '-' in coords\n",
    "    ra_sexa, de_sexa = coords.split('-') if has_minus else coords.split('+')\n",
    "    de_sexa = '-' + de_sexa if has_minus else de_sexa\n",
    "    ra_deg, de_deg, rad_deg = convert(ra_sexa.strip(), de_sexa.strip(), diam)\n",
    "    pmra_min, pmra_max = pmra_range.split('..')\n",
    "    pmde_min, pmde_max = pmde_range.split('..')\n",
    "    pmra_min, pmra_max = float(pmra_min), float(pmra_max)\n",
    "    pmde_min, pmde_max = float(pmde_min), float(pmde_max)\n",
    "    df = query_data(ra_deg, de_deg, rad_deg, mag_lim, pmra_min, pmra_max, pmde_min, pmde_max, dist_upper_lim)\n",
    "    pm_cons_data = plot_all(df, name, pmra_min, pmra_max, pmde_min, pmde_max, num_bins, limit)\n",
    "    dst, e_dst, mod, e_mod, par, e_par, pra, e_pra, pde, e_pde, gmin, gmax, n = calc_vals(pm_cons_data, dmod_min, dmod_max)\n",
    "    coo = coords.replace(' ','').replace('.','')\n",
    "    print_estimates(name, coo, diam, dst, e_dst, mod, e_mod, par, e_par, pra, e_pra, pde, e_pde, gmin, gmax, n)"
   ]
  },
  {
   "cell_type": "markdown",
   "metadata": {},
   "source": [
    "## 5 - Run"
   ]
  },
  {
   "cell_type": "code",
   "execution_count": 80,
   "metadata": {
    "scrolled": false
   },
   "outputs": [
    {
     "name": "stdout",
     "output_type": "stream",
     "text": [
      "Ferrero 0833-44 0833483-442649    2.8  5324.9 1043.2 13.632 0.388  0.122 0.084   -1.334  0.132   +1.190  0.111    27 15.52..19.93 \n"
     ]
    },
    {
     "data": {
      "image/png": "[encoded data removed]",
      "text/plain": [
       "<Figure size 1080x360 with 3 Axes>"
      ]
     },
     "metadata": {
      "needs_background": "light"
     },
     "output_type": "display_data"
    }
   ],
   "source": [
    "#process(name, coords, diam_arcm, mag_lim, pmra_rng, pmde_rng, dist_upper_lim, dmod_min, dmod_max, num_bins, hist_pm_lim)\n",
    "#dmod_min and dmod_max are determined in a 2nd manual exec after checking the gmag x dmod graphics to refine measurements\n",
    "#process('Ale 62', '18 56 06.2 +21 35 49', 36.0, '18', '-10..10', '-10..10', 15, 0, 15, 15, 1.5)\n",
    "\n",
    "#process('UPK 42            ', '19 35 37.9 -03 39 11',  25.8 , '19', '-10..10', '-10..10', 15, 0, 15, 15, 1.0) #  586  -0.42  -5.06\n",
    "#process('UPK 53            ', '19 14 10.6 +14 23 31',  41.4 , '19', '-10..10', '-10..10', 15, 0, 15, 15, 1.0) #  591   2.44   0.98\n",
    "#process('UPK 38            ', '18 43 19.0 -01 39 14',   9.8 , '19', '-10..10', '-10..10', 15, 0, 15, 15, 1.0) #  594  -1.09  -5.26\n",
    "#process('BSP 12            ', '18 48 16.0 -02 20 03',   3.1 , '19', '-10..10', '-10..10', 15, 0, 15, 15, 1.0) #  626   0.11  -6.22\n",
    "#process('TC 1901-1006      ', '19 01 13.1 -10 05 07',  12.5 , '19', '-10..10', '-10..10', 15, 0, 15, 15, 1.0) #  629  -1.67  -4.28\n",
    "#process('UPK 36            ', '18 47 42.5 -02 22 02',  74.4 , '19', '-10..10', '-10..10', 15, 0, 15, 15, 1.0) #  644   0.17  -6.28\n",
    "#process('UPK 40            ', '19 30 31.4 -06 52 55',  81.1 , '19', '-10..10', '-10..10', 15, 0, 15, 15, 1.0) #  653   0.45  -9.04\n",
    "#process('UPK 46            ', '19 38 49.7 -01 21 47',  43.4 , '19', '-10..10', '-10..10', 15, 0, 15, 15, 1.0) #  690   0.06  -8.63\n",
    "#process('Alessi 44         ', '19 41 18.0 +01 35 31', 155.5 , '19', '-10..10', '-10..10', 15, 0, 15, 15, 1.0) #  740   0.70  -2.31\n",
    "#process('UBC 14            ', '19 38 59.0 +03 42 11', 128.2 , '19', '-10..10', '-10..10', 15, 0, 15, 15, 1.0) #  750   0.24  -2.14\n",
    "#process('UPK 54            ', '19 04 37.7 +15 41 21',  41.0 , '19', '-10..10', '-10..10', 15, 0, 15, 15, 1.0) #  811  -0.56  -5.86\n",
    "#process('UPK 52            ', '19 20 10.1 +09 32 08',  24.0 , '19', '-10..10', '-10..10', 15, 0, 15, 15, 1.0) #  817  -0.14  -6.07\n",
    "#process('UPK 55            ', '19 47 14.9 +10 25 41',  31.1 , '19', '-10..10', '-10..10', 15, 0, 15, 15, 1.0) #  860  -1.44  -6.83\n",
    "#process('Theia 896         ', '19 21 33.0 +09 00 26', 155.4 , '19', '-10..10', '-10..10', 15, 0, 15, 15, 1.0) #  864   0.74  -3.47\n",
    "#process('UPK 57            ', '20 03 45.8 +12 25 54',  52.8 , '19', '-10..10', '-10..10', 15, 0, 15, 15, 1.0) #  880  -0.45  -3.43\n",
    "#process('UPK 45            ', '19 26 47.0 +00 12 43',  18.6 , '19', '-10..10', '-10..10', 15, 0, 15, 15, 1.0) #  914  -0.56  -2.21\n",
    "#process('Alessi J1933+1147 ', '19 33 44.3 +11 48 24',   5.7 , '19', '-10..10', '-10..10', 15, 0, 15, 15, 1.0) # 1010  -1.38  -6.17\n",
    "#process('HD 184060 Grp     ', '19 31 51.0 +16 15 30',  48.0 , '19', '-10..10', '-10..10', 15, 0, 15, 15, 1.0) # 1030  -0.77  -5.73\n",
    "#process('UBC 575           ', '19 24 02.5 -05 08 02',  21.9 , '19', '-10..10', '-10..10', 15, 0, 15, 15, 1.0) # 1038  -0.31  -5.21\n",
    "#process('UPK 50            ', '18 53 14.2 +08 10 19',  29.8 , '19', '-10..10', '-10..10', 15, 0, 15, 15, 1.0) # 1040  -1.27  -3.75\n",
    "#process('NGC 6709          ', '18 51 20.6 +10 20 02',  16.8 , '19', '-10..10', '-10..10', 15, 0, 15, 15, 1.0) # 1051   1.46  -3.55\n",
    "#process('UBC 356           ', '19 15 24.7 -04 12 11',  14.6 , '19', '-10..10', '-10..10', 15, 0, 15, 15, 1.0) # 1078  -0.48  -5.03\n",
    "#process('HD 179002 Grp     ', '19 09 08.0 -07 24 54',  63.0 , '19', '-10..10', '-10..10', 15, 0, 15, 15, 1.0) # 1090  -0.59  -4.70\n",
    "#process('UBC 27            ', '19 37 20.9 +15 35 21',  18.7 , '19', '-10..10', '-10..10', 15, 0, 15, 15, 1.0) # 1114  -0.79  -6.22\n",
    "#process('Alessi J1913+0624 ', '19 13 36.0 +06 24 00',  26.0 , '19', '-10..10', '-10..10', 15, 0, 15, 15, 1.0) # 1244  -2.13  -4.25\n",
    "#process('PS J1845-0235 A   ', '18 45 13.9 -02 35 08',   3.4 , '19', '-10..10', '-10..10', 15, 0, 15, 15, 1.0) # 1270   2.70   1.08\n",
    "#process('Berkeley 82       ', '19 11 22.8 +13 06 40',   2.6 , '19', '-10..10', '-10..10', 15, 0, 15, 15, 1.0) # 1343   0.03  -3.21\n",
    "#process('UBC 576           ', '18 58 44.4 +00 25 59',   4.6 , '19', '-10..10', '-10..10', 15, 0, 15, 15, 1.0) # 1420  -0.73  -3.62\n",
    "#process('UBC 118           ', '18 50 35.8 +09 45 47',  13.2 , '19', '-10..10', '-10..10', 15, 0, 15, 15, 1.0) # 1520  -0.28  -4.22\n",
    "#process('UBC 114           ', '19 05 47.0 -00 23 56',  12.4 , '19', '-10..10', '-10..10', 15, 0, 15, 15, 1.0) # 1580  -1.47  -1.99\n",
    "#process('PHOC 35           ', '19 17 43.3 +08 44 08',  21.6 , '19', '-10..10', '-10..10', 15, 0, 15, 15, 1.0) # 1640  -2.93  -5.18\n",
    "#process('UBC 361           ', '19 20 00.7 +15 09 32',   8.2 , '19', '-10..10', '-10..10', 15, 0, 15, 15, 1.0) # 1650  -1.69  -5.27\n",
    "#process('UBC 121           ', '19 15 33.8 +12 50 38',   8.3 , '19', '-10..10', '-10..10', 15, 0, 15, 15, 1.0) # 1750  -1.28  -3.49\n",
    "#process('UBC 119           ', '19 22 30.7 +08 24 36',  10.7 , '19', '-10..10', '-10..10', 15, 0, 15, 15, 1.0) # 1760  -1.33  -2.41\n",
    "#process('NGC 6728          ', '18 58 51.6 -08 57 11',  15.4 , '19', '-10..10', '-10..10', 15, 0, 15, 15, 1.0) # 1770   1.33  -1.81\n",
    "#process('LMR 82            ', '19 05 20.0 +07 32 54',   3.2 , '19', '-10..10', '-10..10', 15, 0, 15, 15, 1.0) # 1800  -1.15  -3.84\n",
    "#process('UBC 353           ', '18 43 25.0 -03 44 06',   8.6 , '19', '-10..10', '-10..10', 15, 0, 15, 15, 1.0) # 2060  -0.62  -2.26\n",
    "#process('PHOC 7            ', '19 02 55.2 +14 34 48',  16.8 , '19', '-10..10', '-10..10', 15, 0, 15, 15, 1.0) # 2110  -0.55  -3.14\n",
    "#process('Alessi J1915+0548 ', '19 15 28.8 +05 48 00',  24.0 , '19', '-10..10', '-10..10', 15, 0, 15, 15, 1.0) # 2110  -0.22  -4.60\n",
    "#process('FoF 597           ', '18 48 25.0 +08 42 50',   8.0 , '19', '-10..10', '-10..10', 15, 0, 15, 15, 1.0) # 2180  -0.06  -1.48\n",
    "#process('Alessi J1913+0622 ', '19 13 30.0 +06 22 00',  24.0 , '19', '-10..10', '-10..10', 15, 0, 15, 15, 1.0) # 2200  -1.13  -4.00\n",
    "#process('NGC 6735          ', '19 00 37.2 -00 29 53',  12.6 , '19', '-10..10', '-10..10', 15, 0, 15, 15, 1.0) # 2210   0.04  -1.38\n",
    "#process('UBC 355           ', '18 47 41.5 -03 49 01',   4.9 , '19', '-10..10', '-10..10', 15, 0, 15, 15, 1.0) # 2230  -0.68  -1.90\n",
    "#process('FoF 2163          ', '18 51 01.9 -00 53 30',  63.2 , '19', '-10..10', '-10..10', 15, 0, 15, 15, 1.0) # 2280  -0.38  -2.12\n",
    "#process('FoF 2172          ', '18 50 02.3 -00 20 05',   8.5 , '19', '-10..10', '-10..10', 15, 0, 15, 15, 1.0) # 2350  -0.37  -1.89\n",
    "#process('UBC 113           ', '19 00 33.1 -01 33 25',   6.6 , '19', '-10..10', '-10..10', 15, 0, 15, 15, 1.0) # 2370   0.53  -0.53\n",
    "#process('PHOC 38           ', '18 57 40.3 -01 33 51',  14.4 , '19', '-10..10', '-10..10', 15, 0, 15, 15, 1.0) # 2370   0.19  -1.07\n",
    "#process('SUH 23            ', '18 55 16.8 +01 21 19',   3.2 , '19', '-10..10', '-10..10', 15, 0, 15, 15, 1.0) # 2420  -0.41  -2.40\n",
    "#process('Berkeley 79       ', '18 45 00.0 -01 08 46',   5.5 , '19', '-10..10', '-10..10', 15, 0, 15, 15, 1.0) # 2440  -0.09  -1.57\n",
    "#process('NGC 6755          ', '19 07 46.1 +04 13 26',  10.6 , '19', '-10..10', '-10..10', 15, 0, 15, 15, 1.0) # 2440  -0.81  -3.57\n",
    "#process('Berkeley 80       ', '18 54 21.8 -01 12 50',   4.4 , '19', '-10..10', '-10..10', 15, 0, 15, 15, 1.0) # 2460  -0.74  -2.72\n",
    "#process('King 26           ', '19 28 56.9 +14 52 55',   4.3 , '19', '-10..10', '-10..10', 15, 0, 15, 15, 1.0) # 2470  -2.35  -4.95\n",
    "#process('UBC 122           ', '19 12 34.1 +15 43 01',   9.4 , '19', '-10..10', '-10..10', 15, 0, 15, 15, 1.0) # 2470  -0.52  -3.17\n",
    "#process('FoF 2171          ', '18 43 52.6 -02 50 43',  33.8 , '19', '-10..10', '-10..10', 15, 0, 15, 15, 1.0) # 2490  -0.58  -2.23\n",
    "#process('FSR 87            ', '18 46 00.0 -03 37 15',  10.0 , '19', '-10..10', '-10..10', 15, 0, 15, 15, 1.0) # 2500  -0.25  -4.18\n",
    "#process('PS J1845-0200     ', '18 45 27.5 -02 00 37',   2.6 , '19', '-10..10', '-10..10', 15, 0, 15, 15, 1.0) # 2510  -0.77  -2.65\n",
    "#process('Prestgard 1       ', '18 51 07.0 -02 11 04',   2.3 , '19', '-10..10', '-10..10', 15, 0, 15, 15, 1.0) # 2530   0.25  -2.45\n",
    "#process('PS J1845-0235 B   ', '18 45 54.0 -02 35 54',   2.3 , '19', '-10..10', '-10..10', 15, 0, 15, 15, 1.0) # 2540  -0.57  -2.70\n",
    "#process('Patchick 60       ', '19 01 12.0 +12 28 33',   5.0 , '19', '-10..10', '-10..10', 15, 0, 15, 15, 1.0) # 2540  -0.78  -2.80\n",
    "#process('Dolidze 35        ', '19 25 23.2 +11 38 29',   7.7 , '19', '-10..10', '-10..10', 15, 0, 15, 15, 1.0) # 2580  -2.11  -4.30\n",
    "#process('PHOC 8            ', '19 15 19.2 +14 25 48',   9.6 , '19', '-10..10', '-10..10', 15, 0, 15, 15, 1.0) # 2650  -1.67  -2.63\n",
    "#process('Alessi J1914+0610 ', '19 14 41.0 +06 10 05',  30.0 , '19', '-10..10', '-10..10', 15, 0, 15, 15, 1.0) # 2660  -1.32  -3.73\n",
    "#process('Froebrich 6       ', '18 47 48.0 -01 42 00',   6.0 , '19', '-10..10', '-10..10', 15, 0, 15, 15, 1.0) # 2710  -0.62  -2.55\n",
    "#process('FoF 2166          ', '18 43 24.6 -02 11 50',  31.8 , '19', '-10..10', '-10..10', 15, 0, 15, 15, 1.0) # 2730  -0.43  -2.32\n",
    "#process('Steine 17         ', '18 44 33.0 -00 17 54',   4.4 , '19', '-10..10', '-10..10', 15, 0, 15, 15, 1.0) # 2760  -0.34  -2.52\n",
    "#process('BDSB 11           ', '19 08 44.2 +05 35 49',   4.8 , '19', '-10..10', '-10..10', 15, 0, 15, 15, 1.0) # 2760  -1.38  -3.06\n",
    "#process('FSR 90            ', '18 50 17.8 -03 34 37',   4.0 , '19', '-10..10', '-10..10', 15, 0, 15, 15, 1.0) # 2770  -1.05  -4.00\n",
    "#process('Spitzer J1848-0111', '18 48 57.4 -01 11 55',   6.0 , '19', '-10..10', '-10..10', 15, 0, 15, 15, 1.0) # 2870  -0.41  -2.20\n",
    "#process('FoF 1669          ', '18 43 14.8 -03 36 00',  16.2 , '19', '-10..10', '-10..10', 15, 0, 15, 15, 1.0) # 2920  -1.25  -3.79\n",
    "#process('King 25           ', '19 24 29.3 +13 41 46',   6.2 , '19', '-10..10', '-10..10', 15, 0, 15, 15, 1.0) # 2940  -1.40  -3.95\n",
    "#process('Mercer 14         ', '18 58 05.0 +01 36 38',   1.2 , '19', '-10..10', '-10..10', 15, 0, 15, 15, 1.0) # 2980  -0.36  -2.24\n",
    "#process('Alicante 10       ', '18 45 12.0 -03 42 05',   6.0 , '19', '-10..10', '-10..10', 15, 0, 15, 15, 1.0) # 3070  -0.92  -4.34\n",
    "#process('NGC 6756          ', '19 08 43.4 +04 42 40',   3.4 , '19', '-10..10', '-10..10', 15, 0, 15, 15, 1.0) # 3100  -1.54  -3.68\n",
    "#process('Teutsch 148       ', '19 10 27.0 +10 18 34',   1.2 , '19', '-10..10', '-10..10', 15, 0, 15, 15, 1.0) # 3110  -1.18  -3.51\n",
    "#process('FSR 94            ', '18 49 51.8 -01 04 01',   4.0 , '19', '-10..10', '-10..10', 15, 0, 15, 15, 1.0) # 3110  -2.10  -4.90\n",
    "#process('Aladin J1843-0351 ', '18 43 15.8 -03 51 51',   2.6 , '19', '-10..10', '-10..10', 15, 0, 15, 15, 1.0) # 3160  -0.76  -2.61\n",
    "#process('BDSB 133          ', '19 10 33.9 +09 07 42',   1.8 , '19', '-10..10', '-10..10', 15, 0, 15, 15, 1.0) # 3200  -1.92  -4.72\n",
    "#process('FoF 160           ', '19 15 12.0 +05 58 12',  24.0 , '19', '-10..10', '-10..10', 15, 0, 15, 15, 1.0) # 3200  -1.16  -3.80\n",
    "#process('Mercer 20         ', '19 12 23.7 +09 57 09',   3.0 , '19', '-10..10', '-10..10', 15, 0, 15, 15, 1.0) # 3220  -2.94  -5.32\n",
    "#process('Bica 78           ', '18 44 40.0 -03 11 21',   2.0 , '19', '-10..10', '-10..10', 15, 0, 15, 15, 1.0) # 3250  -0.58  -2.55\n",
    "#process('Teutsch 26        ', '19 26 06.0 +13 45 48',   3.2 , '19', '-10..10', '-10..10', 15, 0, 15, 15, 1.0) # 3260  -2.21  -4.68\n",
    "#process('BDSB 141          ', '19 22 53.4 +14 09 15',   1.5 , '19', '-10..10', '-10..10', 15, 0, 15, 15, 1.0) # 3280  -1.66  -4.20\n",
    "#process('FSR 124           ', '19 06 52.0 +13 15 21',   5.0 , '19', '-10..10', '-10..10', 15, 0, 15, 15, 1.0) # 3290  -1.78  -4.96\n",
    "#process('UBC 357           ', '18 58 58.3 -00 14 13',  11.5 , '19', '-10..10', '-10..10', 15, 0, 15, 15, 1.0) # 3290  -1.85  -4.14\n",
    "#process('Alicante 9        ', '18 44 43.0 -03 14 30',   4.5 , '19', '-10..10', '-10..10', 15, 0, 15, 15, 1.0) # 3330  -0.89  -2.84\n",
    "#process('Juchert 3         ', '19 07 32.6 +06 16 44',   3.4 , '19', '-10..10', '-10..10', 15, 0, 15, 15, 1.0) # 3350  -1.66  -4.05\n",
    "#process('BDSB 10           ', '18 46 19.9 -03 47 42',   6.0 , '19', '-10..10', '-10..10', 15, 0, 15, 15, 1.0) # 3360  -0.64  -2.42\n",
    "#process('Kronberger 13     ', '19 25 15.6 +13 56 53',   7.8 , '19', '-10..10', '-10..10', 15, 0, 15, 15, 1.0) # 3380  -1.88  -4.28\n",
    "#process('Spitzer J1846-0245', '18 46 11.0 -02 45 14',   1.6 , '19', '-10..10', '-10..10', 15, 0, 15, 15, 1.0) # 3440  -1.21  -3.57\n",
    "#process('KKD 3             ', '19 22 25.9 +14 06 48',   2.4 , '19', '-10..10', '-10..10', 15, 0, 15, 15, 1.0) # 3440  -3.09  -5.53\n",
    "#process('FoF 869           ', '18 55 24.9 -01 15 10',  16.6 , '19', '-10..10', '-10..10', 15, 0, 15, 15, 1.0) # 3450  -1.74  -4.54\n",
    "#process('UBC 359           ', '18 59 10.3 +10 20 31',  16.7 , '19', '-10..10', '-10..10', 15, 0, 15, 15, 1.0) # 3450  -2.26  -4.63"
   ]
  },
  {
   "cell_type": "code",
   "execution_count": null,
   "metadata": {},
   "outputs": [],
   "source": []
  }
 ],
 "metadata": {
  "kernelspec": {
   "display_name": "Python 3",
   "language": "python",
   "name": "python3"
  },
  "language_info": {
   "codemirror_mode": {
    "name": "ipython",
    "version": 3
   },
   "file_extension": ".py",
   "mimetype": "text/x-python",
   "name": "python",
   "nbconvert_exporter": "python",
   "pygments_lexer": "ipython3",
   "version": "3.8.5"
  }
 },
 "nbformat": 4,
 "nbformat_minor": 4
}
